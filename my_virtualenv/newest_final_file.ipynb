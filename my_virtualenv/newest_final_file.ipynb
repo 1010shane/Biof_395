{
  "nbformat": 4,
  "nbformat_minor": 0,
  "metadata": {
    "kernelspec": {
      "display_name": "my_virtualenv",
      "language": "python",
      "name": "my_virtualenv"
    },
    "language_info": {
      "codemirror_mode": {
        "name": "ipython",
        "version": 3
      },
      "file_extension": ".py",
      "mimetype": "text/x-python",
      "name": "python",
      "nbconvert_exporter": "python",
      "pygments_lexer": "ipython3",
      "version": "3.7.4"
    },
    "colab": {
      "name": "Untitled.ipynb",
      "provenance": []
    }
  },
  "cells": [
    {
      "cell_type": "code",
      "metadata": {
        "id": "fiwPT2_Da1OR"
      },
      "source": [
        "# Get articles :"
      ],
      "execution_count": 1,
      "outputs": []
    },
    {
      "cell_type": "code",
      "metadata": {
        "id": "ja62mICza1OZ",
        "outputId": "ce3f8030-4a1c-4a4b-c57c-f1f4a48f390a",
        "colab": {
          "base_uri": "https://localhost:8080/"
        }
      },
      "source": [
        "!pip install xlrd\n",
        "!pip uninstall spacy\n",
        "!pip install spacy==2.2.2"
      ],
      "execution_count": 2,
      "outputs": [
        {
          "output_type": "stream",
          "text": [
            "Requirement already satisfied: xlrd in /usr/local/lib/python3.7/dist-packages (1.1.0)\n"
          ],
          "name": "stdout"
        }
      ]
    },
    {
      "cell_type": "code",
      "metadata": {
        "id": "CibQZ-zba1Oc"
      },
      "source": [
        "import urllib.request\n",
        "import io\n",
        "import gzip\n",
        "import os\n",
        "from pathlib import Path\n",
        "import pandas as pd\n",
        "try:\n",
        "    from Bio import Entrez\n",
        "except ModuleNotFoundError:\n",
        "    !pip install Bio\n",
        "    from Bio import Entrez\n",
        "import re\n",
        "import random\n",
        "import spacy\n",
        "\n",
        "\n",
        "response = urllib.request.urlopen('ftp://mirbase.org/pub/mirbase/CURRENT/miRNA.xls.gz')\n",
        "compressed_file = io.BytesIO(response.read())\n",
        "decompressed_file = gzip.GzipFile(fileobj=compressed_file)\n",
        "\n",
        "with open(Path(os.getcwd(), 'miRNA.xlsx'), 'wb') as outfile:\n",
        "    outfile.write(decompressed_file.read())\n",
        "\n",
        "mir_database = pd.read_excel('miRNA.xlsx')\n",
        "\n",
        "mir_database_1 = mir_database.loc[:, ['Accession', 'ID']]\n",
        "mir_database_2 = mir_database.loc[:, ['Mature1_Acc', 'Mature1_ID']].rename(columns = {'Mature1_Acc':'Accession', 'Mature1_ID':'ID'})\n",
        "mir_database_3 = mir_database.loc[:, ['Mature2_Acc', 'Mature2_ID']].rename(columns = {'Mature2_Acc':'Accession', 'Mature2_ID':'ID'})\n",
        "\n",
        "final_database = pd.concat([mir_database_1, mir_database_2, mir_database_3])"
      ],
      "execution_count": 1,
      "outputs": []
    },
    {
      "cell_type": "code",
      "metadata": {
        "id": "Vs5mReFqpmdh",
        "outputId": "09d50aca-caf8-49b5-a5ba-273d686da1c9",
        "colab": {
          "base_uri": "https://localhost:8080/"
        }
      },
      "source": [
        "print(spacy.__version__)"
      ],
      "execution_count": 2,
      "outputs": [
        {
          "output_type": "stream",
          "text": [
            "2.2.2\n"
          ],
          "name": "stdout"
        }
      ]
    },
    {
      "cell_type": "code",
      "metadata": {
        "id": "QsyN70Ria1Oe"
      },
      "source": [
        "def fetch_abstract(pmid):\n",
        "    handle = Entrez.efetch(db='pubmed', id = pmid, retmode='xml')\n",
        "    article = Entrez.read(handle)['PubmedArticle'][0]['MedlineCitation']['Article']\n",
        "    if 'Abstract' in article:\n",
        "            return article['Abstract']['AbstractText']\n",
        "        \n",
        "def concat_article(x):\n",
        "    final_article = str()\n",
        "    for i in range(len(x)):\n",
        "        final_article = final_article + str(x[i]) + ' '\n",
        "    return final_article"
      ],
      "execution_count": 3,
      "outputs": []
    },
    {
      "cell_type": "code",
      "metadata": {
        "id": "dtyYyq0_a1Oe"
      },
      "source": [
        "def get_literature(user_mir):\n",
        "    \n",
        "    filtered_database = final_database[final_database['Accession']  == user_mir]['ID']\n",
        "    filtered_database = final_database[final_database['Accession']  == user_mir]['ID']\n",
        "\n",
        "    if filtered_database.size == 1:\n",
        "        mir = filtered_database.iloc[0]\n",
        "        print('The accession number ' + user_mir + ' corresponds to miR ' + mir)\n",
        "    else:\n",
        "        print('miR accession is incorrect. Try again (caps sensitive)')\n",
        "\n",
        "    Entrez.email = 'anonymous@gmail.com'\n",
        "    esearch_query = Entrez.esearch(db=\"pubmed\", term=\"mir-100\", retmode=\"xml\")\n",
        "    esearch_result = Entrez.read(esearch_query)\n",
        "    pmid_list = esearch_result['IdList']\n",
        "    print(\"pmid's obtained: \" + str(len(pmid_list)))\n",
        "    \n",
        "    abs_list = []\n",
        "\n",
        "    for i in pmid_list:\n",
        "        abs = fetch_abstract(i)\n",
        "        abs_list.append(abs)\n",
        "        \n",
        "    abs_list = [concat_article(i) for i in abs_list if i is not None]\n",
        "    \n",
        "    return(abs_list)"
      ],
      "execution_count": 4,
      "outputs": []
    },
    {
      "cell_type": "code",
      "metadata": {
        "id": "_jDd_01Xa1Og"
      },
      "source": [
        "training_mir = ['MI0000692', 'MI0000159', 'MI0000172', 'MI0000406', 'MI0000111']"
      ],
      "execution_count": 5,
      "outputs": []
    },
    {
      "cell_type": "code",
      "metadata": {
        "id": "5eLZbnXLa1Oh",
        "outputId": "29b46ff1-756a-4b00-dea9-bca8f568fc48",
        "colab": {
          "base_uri": "https://localhost:8080/"
        }
      },
      "source": [
        "all_abstracts = []\n",
        "\n",
        "for i in training_mir:\n",
        "    abstracts = get_literature(i)\n",
        "    all_abstracts = all_abstracts + abstracts"
      ],
      "execution_count": 6,
      "outputs": [
        {
          "output_type": "stream",
          "text": [
            "The accession number MI0000692 corresponds to miR mmu-mir-100\n",
            "pmid's obtained: 20\n",
            "The accession number MI0000159 corresponds to miR mmu-mir-133a-1\n",
            "pmid's obtained: 20\n",
            "The accession number MI0000172 corresponds to miR mmu-mir-150\n",
            "pmid's obtained: 20\n",
            "The accession number MI0000406 corresponds to miR mmu-mir-106a\n",
            "pmid's obtained: 20\n",
            "The accession number MI0000111 corresponds to miR hsa-mir-105-1\n",
            "pmid's obtained: 20\n"
          ],
          "name": "stdout"
        }
      ]
    },
    {
      "cell_type": "code",
      "metadata": {
        "id": "hDBi8V51a1Oh"
      },
      "source": [
        "from nltk.tokenize import word_tokenize, sent_tokenize\n",
        "\n",
        "all_sentences = []\n",
        "\n",
        "for mir_abs in all_abstracts:\n",
        "    abstr_sentences = sent_tokenize(mir_abs)\n",
        "    all_sentences = all_sentences + abstr_sentences\n"
      ],
      "execution_count": 7,
      "outputs": []
    },
    {
      "cell_type": "code",
      "metadata": {
        "id": "bZti9bkna1Oh",
        "outputId": "d30574f0-f3fc-4974-b741-461422596ee1",
        "colab": {
          "base_uri": "https://localhost:8080/",
          "height": 36
        }
      },
      "source": [
        "all_sentences[10]"
      ],
      "execution_count": 8,
      "outputs": [
        {
          "output_type": "execute_result",
          "data": {
            "application/vnd.google.colaboratory.intrinsic+json": {
              "type": "string"
            },
            "text/plain": [
              "'In conclusion, miR-100, miR-125b, miR-199a and miR-194 may have potential as prognostic and diagnostic biomarkers for GC.'"
            ]
          },
          "metadata": {
            "tags": []
          },
          "execution_count": 8
        }
      ]
    },
    {
      "cell_type": "code",
      "metadata": {
        "id": "dA1SSEGaa1Ov",
        "outputId": "64f7f300-7ed3-4626-d06a-75fa45cfc55b",
        "colab": {
          "base_uri": "https://localhost:8080/"
        }
      },
      "source": [
        "len(all_sentences)"
      ],
      "execution_count": 9,
      "outputs": [
        {
          "output_type": "execute_result",
          "data": {
            "text/plain": [
              "1065"
            ]
          },
          "metadata": {
            "tags": []
          },
          "execution_count": 9
        }
      ]
    },
    {
      "cell_type": "code",
      "metadata": {
        "id": "YTAu95Mza1Ox"
      },
      "source": [
        "def make_training_data(string, pattern):\n",
        "    counter = string.lower().find(pattern.lower())\n",
        "    end_miR = len(string)\n",
        "    \n",
        "    while counter + 1 < len(string):\n",
        "        counter += 1 \n",
        "        if string[counter] in \".,!? :;\":\n",
        "            end_miR = counter\n",
        "            counter = len(string)\n",
        "            \n",
        "    extracted_string = string[string.lower().find(pattern.lower()):end_miR]\n",
        "    new_miR = re.sub(r'-(\\d)*', '-' + str(random.randint(1,1200)), extracted_string, 1)\n",
        "    new_string = string[0:string.lower().find(pattern.lower())] + new_miR + string[end_miR:len(string)]\n",
        "\n",
        "    counter = new_string.lower().find(pattern.lower())\n",
        "    end_miR = len(new_string)\n",
        "\n",
        "    while counter + 1 < len(new_string):\n",
        "        counter += 1 \n",
        "        if new_string[counter] in \".,!? :;\":\n",
        "            end_miR = counter\n",
        "            counter = len(new_string)\n",
        "\n",
        "    if string.lower().find(pattern.lower()) == -1 or not any(i.isdigit() for i in extracted_string):\n",
        "        return((string, {'entities': []}))\n",
        "    else:\n",
        "        return((new_string, {'entities': [(new_string.lower().find(pattern.lower()), end_miR, 'miR')]}))\n",
        "       \n"
      ],
      "execution_count": 10,
      "outputs": []
    },
    {
      "cell_type": "code",
      "metadata": {
        "id": "QWolpMPma1Oz",
        "outputId": "0edb6002-5f35-4f75-bbac-f6e158f580b1",
        "colab": {
          "base_uri": "https://localhost:8080/"
        }
      },
      "source": [
        "all_sentences[0:5]"
      ],
      "execution_count": 11,
      "outputs": [
        {
          "output_type": "execute_result",
          "data": {
            "text/plain": [
              "['MicroRNAs play critical roles in regulating target gene expression and multiple cellular processes in human cancer malignant progression.',\n",
              " 'However, the function of miR-194 in gastric cancer (GC) remains unclear and controversial.',\n",
              " 'In this study, we identified a series of miRNAs that can serve as prognostic biomarkers for GC by analysis of miRNA expression using TCGA (The Cancer Genome Atlas) data.',\n",
              " 'Among them, miR-100, miR-125b, miR-199a and miR-194 were the 4 most promising prognostic biomarkers in GC due to their significant associations with various clinical characteristics of patients.',\n",
              " 'MiR-100, miR-125b and miR-199a predicted poor prognosis in GC, while miR-194 predicted favorable prognosis in GC.']"
            ]
          },
          "metadata": {
            "tags": []
          },
          "execution_count": 11
        }
      ]
    },
    {
      "cell_type": "code",
      "metadata": {
        "id": "LnaN3iSea1Oz",
        "outputId": "0d959398-e2e3-4c08-a1cd-3e71239062ff",
        "colab": {
          "base_uri": "https://localhost:8080/"
        }
      },
      "source": [
        "print([make_training_data(i, 'miR') for i in all_sentences[0:5]])"
      ],
      "execution_count": 12,
      "outputs": [
        {
          "output_type": "stream",
          "text": [
            "[('MicroRNAs play critical roles in regulating target gene expression and multiple cellular processes in human cancer malignant progression.', {'entities': []}), ('However, the function of miR-68 in gastric cancer (GC) remains unclear and controversial.', {'entities': [(25, 31, 'miR')]}), ('In this study, we identified a series of miRNAs that can serve as prognostic biomarkers for GC by analysis of miRNA expression using TCGA (The Cancer Genome Atlas) data.', {'entities': []}), ('Among them, miR-929, miR-125b, miR-199a and miR-194 were the 4 most promising prognostic biomarkers in GC due to their significant associations with various clinical characteristics of patients.', {'entities': [(12, 19, 'miR')]}), ('MiR-122, miR-125b and miR-199a predicted poor prognosis in GC, while miR-194 predicted favorable prognosis in GC.', {'entities': [(0, 7, 'miR')]})]\n"
          ],
          "name": "stdout"
        }
      ]
    },
    {
      "cell_type": "code",
      "metadata": {
        "id": "mu7AR86Ka1O0"
      },
      "source": [
        "training_data = [make_training_data(i, 'miR') for i in all_sentences]"
      ],
      "execution_count": 13,
      "outputs": []
    },
    {
      "cell_type": "code",
      "metadata": {
        "id": "BkWlystea1O0",
        "outputId": "3ad41c34-2678-4eb7-b4be-b2e23833a394",
        "colab": {
          "base_uri": "https://localhost:8080/"
        }
      },
      "source": [
        "training_data[1]"
      ],
      "execution_count": 14,
      "outputs": [
        {
          "output_type": "execute_result",
          "data": {
            "text/plain": [
              "('However, the function of miR-319 in gastric cancer (GC) remains unclear and controversial.',\n",
              " {'entities': [(25, 32, 'miR')]})"
            ]
          },
          "metadata": {
            "tags": []
          },
          "execution_count": 14
        }
      ]
    },
    {
      "cell_type": "code",
      "metadata": {
        "id": "7Fcgd13Ia1O1",
        "outputId": "d6ebe024-70d7-4a51-bf42-4a26b64af796",
        "colab": {
          "base_uri": "https://localhost:8080/"
        }
      },
      "source": [
        "print(spacy.__version__)"
      ],
      "execution_count": 15,
      "outputs": [
        {
          "output_type": "stream",
          "text": [
            "2.2.2\n"
          ],
          "name": "stdout"
        }
      ]
    },
    {
      "cell_type": "code",
      "metadata": {
        "id": "OtQNfOkxa1O2",
        "outputId": "2796a195-38a4-4324-b0b9-ee87341f739a",
        "colab": {
          "base_uri": "https://localhost:8080/"
        }
      },
      "source": [
        "!pip install spacy-lookups-data"
      ],
      "execution_count": 16,
      "outputs": [
        {
          "output_type": "stream",
          "text": [
            "Requirement already satisfied: spacy-lookups-data in /usr/local/lib/python3.7/dist-packages (1.0.0)\n",
            "Requirement already satisfied: setuptools in /usr/local/lib/python3.7/dist-packages (from spacy-lookups-data) (54.0.0)\n"
          ],
          "name": "stdout"
        }
      ]
    },
    {
      "cell_type": "code",
      "metadata": {
        "id": "kGO24gY0a1O2"
      },
      "source": [
        "def train_spacy(data,iterations):\n",
        "    TRAIN_DATA = data\n",
        "    nlp = spacy.blank('en')  # create blank Language class\n",
        "    # create the built-in pipeline components and add them to the pipeline\n",
        "    # nlp.create_pipe works for built-ins that are registered with spaCy\n",
        "    if 'ner' not in nlp.pipe_names:\n",
        "        ner = nlp.create_pipe('ner')\n",
        "        nlp.add_pipe(ner, last=True)\n",
        "       \n",
        "\n",
        "    # add labels\n",
        "    for _, annotations in TRAIN_DATA:\n",
        "         for ent in annotations.get('entities'):\n",
        "            ner.add_label(ent[2])\n",
        "\n",
        "    # get names of other pipes to disable them during training\n",
        "    other_pipes = [pipe for pipe in nlp.pipe_names if pipe != 'ner']\n",
        "    with nlp.disable_pipes(*other_pipes):  # only train NER\n",
        "        optimizer = nlp.begin_training()\n",
        "        for itn in range(iterations):\n",
        "            print(\"Starting iteration \" + str(itn))\n",
        "            random.shuffle(TRAIN_DATA)\n",
        "            losses = {}\n",
        "            for text, annotations in TRAIN_DATA:\n",
        "                nlp.update(\n",
        "                    [text],  # batch of texts\n",
        "                    [annotations],  # batch of annotations\n",
        "                    drop=0.2,  # dropout - make it harder to memorise data\n",
        "                    sgd=optimizer,  # callable to update weights\n",
        "                    losses=losses)\n",
        "            print(losses)\n",
        "    return nlp"
      ],
      "execution_count": 19,
      "outputs": []
    },
    {
      "cell_type": "code",
      "metadata": {
        "id": "7MLex50Pa1O2",
        "outputId": "325308b3-0398-4593-f7d1-349de13bc29e",
        "colab": {
          "base_uri": "https://localhost:8080/"
        }
      },
      "source": [
        "miRnlp = train_spacy(training_data, 10)"
      ],
      "execution_count": 20,
      "outputs": [
        {
          "output_type": "stream",
          "text": [
            "Starting iteration 0\n",
            "{'ner': 698.1961718309033}\n",
            "Starting iteration 1\n",
            "{'ner': 129.51670173409732}\n",
            "Starting iteration 2\n",
            "{'ner': 69.77326219327692}\n",
            "Starting iteration 3\n",
            "{'ner': 41.705053622645}\n",
            "Starting iteration 4\n",
            "{'ner': 28.710898934038223}\n",
            "Starting iteration 5\n",
            "{'ner': 23.4670738215081}\n",
            "Starting iteration 6\n",
            "{'ner': 44.93986783116825}\n",
            "Starting iteration 7\n",
            "{'ner': 42.402259317974035}\n",
            "Starting iteration 8\n",
            "{'ner': 2.0013992651253156}\n",
            "Starting iteration 9\n",
            "{'ner': 194.08269852540838}\n"
          ],
          "name": "stdout"
        }
      ]
    },
    {
      "cell_type": "code",
      "metadata": {
        "id": "PajF0oYRa1O4"
      },
      "source": [
        "test_miR = ['MI0000684']"
      ],
      "execution_count": 21,
      "outputs": []
    },
    {
      "cell_type": "code",
      "metadata": {
        "id": "vYNGlGYWa1O4",
        "outputId": "3903d5e6-e01f-4869-bba6-041f7fdd6e17",
        "colab": {
          "base_uri": "https://localhost:8080/"
        }
      },
      "source": [
        "all_test_abstracts = []\n",
        "\n",
        "for i in test_miR:\n",
        "    abstracts = get_literature(i)\n",
        "    all_test_abstracts = all_test_abstracts + abstracts\n",
        "\n",
        "all_test_sentences = []\n",
        "\n",
        "for mir_abs in all_test_abstracts:\n",
        "    abstr_sentences = sent_tokenize(mir_abs)\n",
        "    all_test_sentences = all_test_sentences + abstr_sentences"
      ],
      "execution_count": 22,
      "outputs": [
        {
          "output_type": "stream",
          "text": [
            "The accession number MI0000684 corresponds to miR mmu-mir-107\n",
            "pmid's obtained: 20\n"
          ],
          "name": "stdout"
        }
      ]
    },
    {
      "cell_type": "code",
      "metadata": {
        "id": "HIMgjHNGa1O4",
        "outputId": "2f1a7513-5fe6-4fce-d302-7b7fea2f8831",
        "colab": {
          "base_uri": "https://localhost:8080/"
        }
      },
      "source": [
        "for i in all_test_sentences[0:20]:\n",
        "    doc = miRnlp(i)\n",
        "    print(\"Entities\", [(ent.text, ent.label_) for ent in doc.ents])"
      ],
      "execution_count": 23,
      "outputs": [
        {
          "output_type": "stream",
          "text": [
            "Entities []\n",
            "Entities [('miR-194', 'miR')]\n",
            "Entities []\n",
            "Entities []\n",
            "Entities []\n",
            "Entities [('miR-194', 'miR')]\n",
            "Entities [('miR-194', 'miR')]\n",
            "Entities [('miR-194', 'miR')]\n",
            "Entities [('miR-194', 'miR')]\n",
            "Entities [('miR-194', 'miR')]\n",
            "Entities []\n",
            "Entities [('MiR-194', 'miR')]\n",
            "Entities []\n",
            "Entities []\n",
            "Entities []\n",
            "Entities []\n",
            "Entities []\n",
            "Entities []\n",
            "Entities []\n",
            "Entities []\n"
          ],
          "name": "stdout"
        }
      ]
    },
    {
      "cell_type": "code",
      "metadata": {
        "id": "3hswsrFea1O4",
        "outputId": "18b708c4-66fb-4ce3-c2cf-99301859d116"
      },
      "source": [
        "all_test_sentences[0:5]"
      ],
      "execution_count": null,
      "outputs": [
        {
          "output_type": "execute_result",
          "data": {
            "text/plain": [
              "['MicroRNAs play critical roles in regulating target gene expression and multiple cellular processes in human cancer malignant progression.',\n",
              " 'However, the function of miR-194 in gastric cancer (GC) remains unclear and controversial.',\n",
              " 'In this study, we identified a series of miRNAs that can serve as prognostic biomarkers for GC by analysis of miRNA expression using TCGA (The Cancer Genome Atlas) data.',\n",
              " 'Among them, miR-100, miR-125b, miR-199a and miR-194 were the 4 most promising prognostic biomarkers in GC due to their significant associations with various clinical characteristics of patients.',\n",
              " 'MiR-100, miR-125b and miR-199a predicted poor prognosis in GC, while miR-194 predicted favorable prognosis in GC.']"
            ]
          },
          "metadata": {
            "tags": []
          },
          "execution_count": 108
        }
      ]
    },
    {
      "cell_type": "code",
      "metadata": {
        "id": "PMJ9Zh1La1O5",
        "outputId": "ec96ccd0-9632-409c-e2b1-4eec74c129d9"
      },
      "source": [
        "test_string = 'However, the function of miR-193 in gastric cancer (GC) remains unclear and controversial.'\n",
        "\n",
        "doc = miRnlp(test_string)\n",
        "print(\"Entities\", [(ent.text, ent.label_) for ent in doc.ents])"
      ],
      "execution_count": null,
      "outputs": [
        {
          "output_type": "stream",
          "text": [
            "Entities []\n"
          ],
          "name": "stdout"
        }
      ]
    }
  ]
}