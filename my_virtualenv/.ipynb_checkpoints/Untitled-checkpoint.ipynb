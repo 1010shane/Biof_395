{
 "cells": [
  {
   "cell_type": "code",
   "execution_count": 7,
   "metadata": {},
   "outputs": [],
   "source": [
    "# Get articles :"
   ]
  },
  {
   "cell_type": "code",
   "execution_count": 8,
   "metadata": {},
   "outputs": [
    {
     "name": "stdout",
     "output_type": "stream",
     "text": [
      "Requirement already satisfied: xlrd in ./lib/python3.7/site-packages (2.0.1)\n"
     ]
    }
   ],
   "source": [
    "!pip install xlrd"
   ]
  },
  {
   "cell_type": "code",
   "execution_count": 9,
   "metadata": {},
   "outputs": [],
   "source": [
    "import urllib.request\n",
    "import io\n",
    "import gzip\n",
    "import os\n",
    "from pathlib import Path\n",
    "import pandas as pd\n",
    "try:\n",
    "    from Bio import Entrez\n",
    "except ModuleNotFoundError:\n",
    "    !pip install Bio\n",
    "    from Bio import Entrez\n",
    "\n",
    "\n",
    "response = urllib.request.urlopen('ftp://mirbase.org/pub/mirbase/CURRENT/miRNA.xls.gz')\n",
    "compressed_file = io.BytesIO(response.read())\n",
    "decompressed_file = gzip.GzipFile(fileobj=compressed_file)\n",
    "\n",
    "with open(Path(os.getcwd(), 'miRNA.xlsx'), 'wb') as outfile:\n",
    "    outfile.write(decompressed_file.read())\n",
    "\n",
    "mir_database = pd.read_excel('miRNA.xlsx')\n",
    "\n",
    "mir_database_1 = mir_database.loc[:, ['Accession', 'ID']]\n",
    "mir_database_2 = mir_database.loc[:, ['Mature1_Acc', 'Mature1_ID']].rename(columns = {'Mature1_Acc':'Accession', 'Mature1_ID':'ID'})\n",
    "mir_database_3 = mir_database.loc[:, ['Mature2_Acc', 'Mature2_ID']].rename(columns = {'Mature2_Acc':'Accession', 'Mature2_ID':'ID'})\n",
    "\n",
    "final_database = pd.concat([mir_database_1, mir_database_2, mir_database_3])"
   ]
  },
  {
   "cell_type": "code",
   "execution_count": 10,
   "metadata": {},
   "outputs": [],
   "source": [
    "def fetch_abstract(pmid):\n",
    "    handle = Entrez.efetch(db='pubmed', id = pmid, retmode='xml')\n",
    "    article = Entrez.read(handle)['PubmedArticle'][0]['MedlineCitation']['Article']\n",
    "    if 'Abstract' in article:\n",
    "            return article['Abstract']['AbstractText']\n",
    "        \n",
    "def concat_article(x):\n",
    "    final_article = str()\n",
    "    for i in range(len(x)):\n",
    "        final_article = final_article + str(x[i]) + ' '\n",
    "    return final_article"
   ]
  },
  {
   "cell_type": "code",
   "execution_count": 11,
   "metadata": {},
   "outputs": [],
   "source": [
    "def get_literature(user_mir):\n",
    "    \n",
    "    filtered_database = final_database[final_database['Accession']  == user_mir]['ID']\n",
    "    filtered_database = final_database[final_database['Accession']  == user_mir]['ID']\n",
    "\n",
    "    if filtered_database.size == 1:\n",
    "        mir = filtered_database.iloc[0]\n",
    "        print('The accession number ' + user_mir + ' corresponds to miR ' + mir)\n",
    "    else:\n",
    "        print('miR accession is incorrect. Try again (caps sensitive)')\n",
    "\n",
    "    Entrez.email = 'anonymous@gmail.com'\n",
    "    esearch_query = Entrez.esearch(db=\"pubmed\", term=\"mir-100\", retmode=\"xml\")\n",
    "    esearch_result = Entrez.read(esearch_query)\n",
    "    pmid_list = esearch_result['IdList']\n",
    "    print(\"pmid's obtained: \" + str(len(pmid_list)))\n",
    "    \n",
    "    abs_list = []\n",
    "\n",
    "    for i in pmid_list:\n",
    "        abs = fetch_abstract(i)\n",
    "        abs_list.append(abs)\n",
    "        \n",
    "    abs_list = [concat_article(i) for i in abs_list if i is not None]\n",
    "    \n",
    "    return(abs_list)"
   ]
  },
  {
   "cell_type": "code",
   "execution_count": 12,
   "metadata": {},
   "outputs": [],
   "source": [
    "training_mir = ['MI0000692', 'MI0000159', 'MI0000172', 'MI0000406', 'MI0000111']"
   ]
  },
  {
   "cell_type": "code",
   "execution_count": 13,
   "metadata": {},
   "outputs": [
    {
     "name": "stdout",
     "output_type": "stream",
     "text": [
      "The accession number MI0000692 corresponds to miR mmu-mir-100\n",
      "pmid's obtained: 20\n",
      "The accession number MI0000159 corresponds to miR mmu-mir-133a-1\n",
      "pmid's obtained: 20\n",
      "The accession number MI0000172 corresponds to miR mmu-mir-150\n",
      "pmid's obtained: 20\n",
      "The accession number MI0000406 corresponds to miR mmu-mir-106a\n",
      "pmid's obtained: 20\n",
      "The accession number MI0000111 corresponds to miR hsa-mir-105-1\n",
      "pmid's obtained: 20\n"
     ]
    }
   ],
   "source": [
    "all_abstracts = []\n",
    "\n",
    "for i in training_mir:\n",
    "    abstracts = get_literature(i)\n",
    "    all_abstracts = all_abstracts + abstracts"
   ]
  },
  {
   "cell_type": "code",
   "execution_count": 14,
   "metadata": {},
   "outputs": [],
   "source": [
    "from nltk.tokenize import word_tokenize, sent_tokenize\n",
    "\n",
    "all_sentences = []\n",
    "\n",
    "for mir_abs in all_abstracts:\n",
    "    abstr_sentences = sent_tokenize(mir_abs)\n",
    "    all_sentences = all_sentences + abstr_sentences\n"
   ]
  },
  {
   "cell_type": "code",
   "execution_count": 15,
   "metadata": {},
   "outputs": [
    {
     "data": {
      "text/plain": [
       "'In conclusion, miR-100, miR-125b, miR-199a and miR-194 may have potential as prognostic and diagnostic biomarkers for GC.'"
      ]
     },
     "execution_count": 15,
     "metadata": {},
     "output_type": "execute_result"
    }
   ],
   "source": [
    "all_sentences[10]"
   ]
  },
  {
   "cell_type": "code",
   "execution_count": 16,
   "metadata": {},
   "outputs": [
    {
     "data": {
      "text/plain": [
       "1065"
      ]
     },
     "execution_count": 16,
     "metadata": {},
     "output_type": "execute_result"
    }
   ],
   "source": [
    "len(all_sentences)"
   ]
  },
  {
   "cell_type": "code",
   "execution_count": 17,
   "metadata": {},
   "outputs": [],
   "source": [
    "def make_training_data(string, pattern):\n",
    "    counter = string.lower().find(pattern.lower())\n",
    "    end_miR = len(string)\n",
    "    \n",
    "    while counter + 1 < len(string):\n",
    "        counter += 1 \n",
    "        if string[counter] in \".,!? :;\":\n",
    "            end_miR = counter\n",
    "            counter = len(string)\n",
    "            \n",
    "    extracted_string = string[string.lower().find(pattern.lower()):end_miR]\n",
    "    \n",
    "    if string.lower().find(pattern.lower()) == -1 or not any(i.isdigit() for i in extracted_string):\n",
    "        return((string, {'entities': []}))\n",
    "    else:\n",
    "        return((string, {'entities': [(string.lower().find(pattern.lower()), end_miR, 'miR')]}))\n"
   ]
  },
  {
   "cell_type": "code",
   "execution_count": 18,
   "metadata": {},
   "outputs": [],
   "source": [
    "def check_training_data(string, pattern):\n",
    "    counter = string.lower().find(pattern.lower())\n",
    "    end_miR = len(string)\n",
    "    \n",
    "    while counter + 1 < len(string):\n",
    "        counter += 1 \n",
    "        if string[counter] in \".,!? :;\":\n",
    "            end_miR = counter\n",
    "            counter = len(string)\n",
    "           \n",
    "    extracted_string = string[string.lower().find(pattern.lower()):end_miR]    \n",
    "        \n",
    "    if string.lower().find(pattern.lower()) == -1 or not any(i.isdigit() for i in extracted_string):\n",
    "        return('')\n",
    "    else:\n",
    "        return(extracted_string)"
   ]
  },
  {
   "cell_type": "code",
   "execution_count": 19,
   "metadata": {},
   "outputs": [
    {
     "data": {
      "text/plain": [
       "['MicroRNAs play critical roles in regulating target gene expression and multiple cellular processes in human cancer malignant progression.',\n",
       " 'However, the function of miR-194 in gastric cancer (GC) remains unclear and controversial.',\n",
       " 'In this study, we identified a series of miRNAs that can serve as prognostic biomarkers for GC by analysis of miRNA expression using TCGA (The Cancer Genome Atlas) data.',\n",
       " 'Among them, miR-100, miR-125b, miR-199a and miR-194 were the 4 most promising prognostic biomarkers in GC due to their significant associations with various clinical characteristics of patients.',\n",
       " 'MiR-100, miR-125b and miR-199a predicted poor prognosis in GC, while miR-194 predicted favorable prognosis in GC.']"
      ]
     },
     "execution_count": 19,
     "metadata": {},
     "output_type": "execute_result"
    }
   ],
   "source": [
    "all_sentences[0:5]"
   ]
  },
  {
   "cell_type": "code",
   "execution_count": 20,
   "metadata": {},
   "outputs": [
    {
     "name": "stdout",
     "output_type": "stream",
     "text": [
      "[('MicroRNAs play critical roles in regulating target gene expression and multiple cellular processes in human cancer malignant progression.', {'entities': []}), ('However, the function of miR-194 in gastric cancer (GC) remains unclear and controversial.', {'entities': [(25, 32, 'miR')]}), ('In this study, we identified a series of miRNAs that can serve as prognostic biomarkers for GC by analysis of miRNA expression using TCGA (The Cancer Genome Atlas) data.', {'entities': []}), ('Among them, miR-100, miR-125b, miR-199a and miR-194 were the 4 most promising prognostic biomarkers in GC due to their significant associations with various clinical characteristics of patients.', {'entities': [(12, 19, 'miR')]}), ('MiR-100, miR-125b and miR-199a predicted poor prognosis in GC, while miR-194 predicted favorable prognosis in GC.', {'entities': [(0, 7, 'miR')]})]\n",
      "\n",
      "['', 'miR-194', '', 'miR-100', 'MiR-100']\n"
     ]
    }
   ],
   "source": [
    "print([make_training_data(i, 'miR') for i in all_sentences[0:5]])\n",
    "print()\n",
    "print([check_training_data(i, 'miR') for i in all_sentences[0:5]])"
   ]
  },
  {
   "cell_type": "code",
   "execution_count": 21,
   "metadata": {},
   "outputs": [],
   "source": [
    "training_data = [make_training_data(i, 'miR') for i in all_sentences]"
   ]
  },
  {
   "cell_type": "code",
   "execution_count": 22,
   "metadata": {},
   "outputs": [
    {
     "data": {
      "text/plain": [
       "('However, the function of miR-194 in gastric cancer (GC) remains unclear and controversial.',\n",
       " {'entities': [(25, 32, 'miR')]})"
      ]
     },
     "execution_count": 22,
     "metadata": {},
     "output_type": "execute_result"
    }
   ],
   "source": [
    "training_data[1]"
   ]
  },
  {
   "cell_type": "code",
   "execution_count": 23,
   "metadata": {},
   "outputs": [],
   "source": [
    "import spacy\n",
    "import random"
   ]
  },
  {
   "cell_type": "code",
   "execution_count": 24,
   "metadata": {},
   "outputs": [
    {
     "name": "stdout",
     "output_type": "stream",
     "text": [
      "2.3.5\n"
     ]
    }
   ],
   "source": [
    "print(spacy.__version__)"
   ]
  },
  {
   "cell_type": "code",
   "execution_count": 25,
   "metadata": {},
   "outputs": [
    {
     "name": "stdout",
     "output_type": "stream",
     "text": [
      "Collecting en_core_web_sm==2.3.1\n",
      "  Downloading https://github.com/explosion/spacy-models/releases/download/en_core_web_sm-2.3.1/en_core_web_sm-2.3.1.tar.gz (12.0 MB)\n",
      "\u001b[K     |████████████████████████████████| 12.0 MB 3.4 MB/s eta 0:00:01\n",
      "\u001b[?25hRequirement already satisfied: spacy<2.4.0,>=2.3.0 in ./lib/python3.7/site-packages (from en_core_web_sm==2.3.1) (2.3.5)\n",
      "Requirement already satisfied: requests<3.0.0,>=2.13.0 in ./lib/python3.7/site-packages (from spacy<2.4.0,>=2.3.0->en_core_web_sm==2.3.1) (2.25.1)\n",
      "Requirement already satisfied: srsly<1.1.0,>=1.0.2 in ./lib/python3.7/site-packages (from spacy<2.4.0,>=2.3.0->en_core_web_sm==2.3.1) (1.0.5)\n",
      "Requirement already satisfied: murmurhash<1.1.0,>=0.28.0 in ./lib/python3.7/site-packages (from spacy<2.4.0,>=2.3.0->en_core_web_sm==2.3.1) (1.0.5)\n",
      "Requirement already satisfied: blis<0.8.0,>=0.4.0 in ./lib/python3.7/site-packages (from spacy<2.4.0,>=2.3.0->en_core_web_sm==2.3.1) (0.7.4)\n",
      "Requirement already satisfied: preshed<3.1.0,>=3.0.2 in ./lib/python3.7/site-packages (from spacy<2.4.0,>=2.3.0->en_core_web_sm==2.3.1) (3.0.5)\n",
      "Requirement already satisfied: setuptools in ./lib/python3.7/site-packages (from spacy<2.4.0,>=2.3.0->en_core_web_sm==2.3.1) (40.8.0)\n",
      "Requirement already satisfied: cymem<2.1.0,>=2.0.2 in ./lib/python3.7/site-packages (from spacy<2.4.0,>=2.3.0->en_core_web_sm==2.3.1) (2.0.5)\n",
      "Requirement already satisfied: tqdm<5.0.0,>=4.38.0 in ./lib/python3.7/site-packages (from spacy<2.4.0,>=2.3.0->en_core_web_sm==2.3.1) (4.59.0)\n",
      "Requirement already satisfied: numpy>=1.15.0 in ./lib/python3.7/site-packages (from spacy<2.4.0,>=2.3.0->en_core_web_sm==2.3.1) (1.20.1)\n",
      "Requirement already satisfied: wasabi<1.1.0,>=0.4.0 in ./lib/python3.7/site-packages (from spacy<2.4.0,>=2.3.0->en_core_web_sm==2.3.1) (0.8.2)\n",
      "Requirement already satisfied: catalogue<1.1.0,>=0.0.7 in ./lib/python3.7/site-packages (from spacy<2.4.0,>=2.3.0->en_core_web_sm==2.3.1) (1.0.0)\n",
      "Requirement already satisfied: plac<1.2.0,>=0.9.6 in ./lib/python3.7/site-packages (from spacy<2.4.0,>=2.3.0->en_core_web_sm==2.3.1) (1.1.3)\n",
      "Requirement already satisfied: thinc<7.5.0,>=7.4.1 in ./lib/python3.7/site-packages (from spacy<2.4.0,>=2.3.0->en_core_web_sm==2.3.1) (7.4.5)\n",
      "Requirement already satisfied: importlib-metadata>=0.20 in ./lib/python3.7/site-packages (from catalogue<1.1.0,>=0.0.7->spacy<2.4.0,>=2.3.0->en_core_web_sm==2.3.1) (3.7.2)\n",
      "Requirement already satisfied: zipp>=0.5 in ./lib/python3.7/site-packages (from importlib-metadata>=0.20->catalogue<1.1.0,>=0.0.7->spacy<2.4.0,>=2.3.0->en_core_web_sm==2.3.1) (3.4.1)\n",
      "Requirement already satisfied: typing-extensions>=3.6.4 in ./lib/python3.7/site-packages (from importlib-metadata>=0.20->catalogue<1.1.0,>=0.0.7->spacy<2.4.0,>=2.3.0->en_core_web_sm==2.3.1) (3.7.4.3)\n",
      "Requirement already satisfied: chardet<5,>=3.0.2 in ./lib/python3.7/site-packages (from requests<3.0.0,>=2.13.0->spacy<2.4.0,>=2.3.0->en_core_web_sm==2.3.1) (4.0.0)\n",
      "Requirement already satisfied: idna<3,>=2.5 in ./lib/python3.7/site-packages (from requests<3.0.0,>=2.13.0->spacy<2.4.0,>=2.3.0->en_core_web_sm==2.3.1) (2.10)\n",
      "Requirement already satisfied: urllib3<1.27,>=1.21.1 in ./lib/python3.7/site-packages (from requests<3.0.0,>=2.13.0->spacy<2.4.0,>=2.3.0->en_core_web_sm==2.3.1) (1.26.3)\n",
      "Requirement already satisfied: certifi>=2017.4.17 in ./lib/python3.7/site-packages (from requests<3.0.0,>=2.13.0->spacy<2.4.0,>=2.3.0->en_core_web_sm==2.3.1) (2020.12.5)\n",
      "\u001b[38;5;2m✔ Download and installation successful\u001b[0m\n",
      "You can now load the model via spacy.load('en_core_web_sm')\n"
     ]
    }
   ],
   "source": [
    "!python -m spacy download en_core_web_sm"
   ]
  },
  {
   "cell_type": "code",
   "execution_count": 26,
   "metadata": {},
   "outputs": [],
   "source": [
    "nlp=spacy.load('en_core_web_sm')\n",
    "\n",
    "# Getting the pipeline component\n",
    "ner=nlp.get_pipe(\"ner\")"
   ]
  },
  {
   "cell_type": "code",
   "execution_count": 27,
   "metadata": {},
   "outputs": [],
   "source": [
    "for _, annotations in training_data:\n",
    "  for ent in annotations.get(\"entities\"):\n",
    "    ner.add_label(ent[2])\n",
    "    \n",
    "pipe_exceptions = [\"ner\", \"trf_wordpiecer\", \"trf_tok2vec\"]\n",
    "unaffected_pipes = [pipe for pipe in nlp.pipe_names if pipe not in pipe_exceptions]"
   ]
  },
  {
   "cell_type": "code",
   "execution_count": 28,
   "metadata": {},
   "outputs": [
    {
     "name": "stdout",
     "output_type": "stream",
     "text": [
      "2.3.5\n"
     ]
    }
   ],
   "source": [
    "print(spacy.__version__)\n"
   ]
  },
  {
   "cell_type": "code",
   "execution_count": null,
   "metadata": {},
   "outputs": [],
   "source": [
    "import random\n",
    "from spacy.util import minibatch, compounding\n",
    "from pathlib import Path\n",
    "\n",
    "all_losses = []\n",
    "# TRAINING THE MODEL\n",
    "with nlp.disable_pipes(*unaffected_pipes):\n",
    "\n",
    "  # Training for 10 iterations\n",
    "  for iteration in range(500):\n",
    "\n",
    "    # shuufling examples  before every iteration\n",
    "    random.shuffle(training_data)\n",
    "    losses = {}\n",
    "    # batch up the examples using spaCy's minibatch\n",
    "    batches = minibatch(training_data, size=compounding(4.0, 32.0, 1.001))\n",
    "    for batch in batches:\n",
    "        texts, annotations = zip(*batch)\n",
    "        nlp.update(\n",
    "                    texts,  # batch of texts\n",
    "                    annotations,  # batch of annotations\n",
    "                    drop=0.5,  # dropout - make it harder to memorise data\n",
    "                    losses=losses,\n",
    "                )\n",
    "        \n",
    "    all_losses.append(losses)"
   ]
  },
  {
   "cell_type": "code",
   "execution_count": 37,
   "metadata": {},
   "outputs": [
    {
     "data": {
      "text/plain": [
       "100"
      ]
     },
     "execution_count": 37,
     "metadata": {},
     "output_type": "execute_result"
    }
   ],
   "source": [
    "len(all_losses)"
   ]
  },
  {
   "cell_type": "code",
   "execution_count": 38,
   "metadata": {},
   "outputs": [
    {
     "data": {
      "text/plain": [
       "[{'ner': 18086.475824654102},\n",
       " {'ner': 18221.50495751947},\n",
       " {'ner': 18017.555027782917},\n",
       " {'ner': 18089.43132263422},\n",
       " {'ner': 18102.15681213609},\n",
       " {'ner': 18167.981379110715},\n",
       " {'ner': 18105.43503576517},\n",
       " {'ner': 18047.357963236147},\n",
       " {'ner': 18152.546090126038},\n",
       " {'ner': 18171.00736861126},\n",
       " {'ner': 18167.968371226045},\n",
       " {'ner': 18191.358203679323},\n",
       " {'ner': 18178.26528763771},\n",
       " {'ner': 18143.42500393145},\n",
       " {'ner': 18167.608760505915},\n",
       " {'ner': 18198.85860077123},\n",
       " {'ner': 18236.310033619404},\n",
       " {'ner': 18081.673486324027},\n",
       " {'ner': 18238.54442322254},\n",
       " {'ner': 18109.265405595303},\n",
       " {'ner': 18142.225919485092},\n",
       " {'ner': 18087.139151201307},\n",
       " {'ner': 18024.00379225734},\n",
       " {'ner': 18058.318527831783},\n",
       " {'ner': 18217.95513150096},\n",
       " {'ner': 18003.504776746035},\n",
       " {'ner': 17899.657508030534},\n",
       " {'ner': 18107.4003149271},\n",
       " {'ner': 18163.577620390803},\n",
       " {'ner': 18111.807903826237},\n",
       " {'ner': 18007.221433520317},\n",
       " {'ner': 18090.340340316296},\n",
       " {'ner': 18087.450000226498},\n",
       " {'ner': 18079.18424719572},\n",
       " {'ner': 18080.40682918369},\n",
       " {'ner': 18003.847000964597},\n",
       " {'ner': 18148.62155112659},\n",
       " {'ner': 18151.533251264198},\n",
       " {'ner': 18126.65996709629},\n",
       " {'ner': 17974.573468167335},\n",
       " {'ner': 18096.701998326622},\n",
       " {'ner': 18198.259699047012},\n",
       " {'ner': 18249.436524540186},\n",
       " {'ner': 18051.582371994547},\n",
       " {'ner': 18106.32519864943},\n",
       " {'ner': 17975.33356550336},\n",
       " {'ner': 17870.23838555813},\n",
       " {'ner': 18166.79290315509},\n",
       " {'ner': 18032.973549670438},\n",
       " {'ner': 18174.706095278263},\n",
       " {'ner': 18076.992873068783},\n",
       " {'ner': 18194.03190934658},\n",
       " {'ner': 17982.544389486313},\n",
       " {'ner': 17912.109675765038},\n",
       " {'ner': 18212.1694996953},\n",
       " {'ner': 18043.204051733017},\n",
       " {'ner': 18158.30738592148},\n",
       " {'ner': 18023.945010613636},\n",
       " {'ner': 18154.072534382343},\n",
       " {'ner': 18201.60477912426},\n",
       " {'ner': 18035.9533123374},\n",
       " {'ner': 18179.89483631142},\n",
       " {'ner': 18027.69218172552},\n",
       " {'ner': 17978.196046573474},\n",
       " {'ner': 18135.044121682644},\n",
       " {'ner': 17971.88110199603},\n",
       " {'ner': 18045.206605476327},\n",
       " {'ner': 17852.30591294459},\n",
       " {'ner': 18128.797844571607},\n",
       " {'ner': 18068.74744427204},\n",
       " {'ner': 17940.97420067998},\n",
       " {'ner': 18177.493360579014},\n",
       " {'ner': 18100.32224157831},\n",
       " {'ner': 18004.05663630471},\n",
       " {'ner': 18145.12934238324},\n",
       " {'ner': 17961.01382303238},\n",
       " {'ner': 18034.46601001582},\n",
       " {'ner': 18051.104590654373},\n",
       " {'ner': 18016.158268392086},\n",
       " {'ner': 18145.95953899622},\n",
       " {'ner': 18041.09893244505},\n",
       " {'ner': 18084.478127104696},\n",
       " {'ner': 17969.785014359222},\n",
       " {'ner': 18179.744035818614},\n",
       " {'ner': 18002.429728151765},\n",
       " {'ner': 18030.733660710277},\n",
       " {'ner': 18037.283588027945},\n",
       " {'ner': 18049.72741337485},\n",
       " {'ner': 17982.209722608328},\n",
       " {'ner': 18075.648146510124},\n",
       " {'ner': 18121.079042787384},\n",
       " {'ner': 18210.441723883152},\n",
       " {'ner': 18007.22580274305},\n",
       " {'ner': 18139.27446377836},\n",
       " {'ner': 18002.70253334986},\n",
       " {'ner': 18006.367812365294},\n",
       " {'ner': 18027.241799674026},\n",
       " {'ner': 18095.79995946493},\n",
       " {'ner': 17939.056191161275},\n",
       " {'ner': 17914.524089396}]"
      ]
     },
     "execution_count": 38,
     "metadata": {},
     "output_type": "execute_result"
    }
   ],
   "source": [
    "all_losses"
   ]
  },
  {
   "cell_type": "code",
   "execution_count": 41,
   "metadata": {},
   "outputs": [
    {
     "name": "stdout",
     "output_type": "stream",
     "text": [
      "Entities []\n"
     ]
    }
   ],
   "source": [
    "doc = nlp(\"This is a test sentence about miR-100.\")\n",
    "print(\"Entities\", [(ent.text, ent.label_) for ent in doc.ents])"
   ]
  },
  {
   "cell_type": "code",
   "execution_count": 32,
   "metadata": {},
   "outputs": [
    {
     "data": {
      "text/plain": [
       "[{'thing1': 1}]"
      ]
     },
     "execution_count": 32,
     "metadata": {},
     "output_type": "execute_result"
    }
   ],
   "source": [
    "test_list = []\n",
    "\n",
    "test_list.append({'thing1': 1})\n",
    "\n",
    "test_list"
   ]
  },
  {
   "cell_type": "code",
   "execution_count": 52,
   "metadata": {},
   "outputs": [],
   "source": [
    "test_miR = ['MI0000684']"
   ]
  },
  {
   "cell_type": "code",
   "execution_count": 57,
   "metadata": {},
   "outputs": [
    {
     "name": "stdout",
     "output_type": "stream",
     "text": [
      "The accession number MI0000684 corresponds to miR mmu-mir-107\n",
      "pmid's obtained: 20\n"
     ]
    }
   ],
   "source": [
    "all_test_abstracts = []\n",
    "\n",
    "for i in test_miR:\n",
    "    abstracts = get_literature(i)\n",
    "    all_test_abstracts = all_test_abstracts + abstracts\n",
    "\n",
    "all_test_sentences = []\n",
    "\n",
    "for mir_abs in all_test_abstracts:\n",
    "    abstr_sentences = sent_tokenize(mir_abs)\n",
    "    all_test_sentences = all_test_sentences + abstr_sentences"
   ]
  },
  {
   "cell_type": "code",
   "execution_count": 58,
   "metadata": {},
   "outputs": [
    {
     "data": {
      "text/plain": [
       "['MicroRNAs play critical roles in regulating target gene expression and multiple cellular processes in human cancer malignant progression.',\n",
       " 'However, the function of miR-194 in gastric cancer (GC) remains unclear and controversial.',\n",
       " 'In this study, we identified a series of miRNAs that can serve as prognostic biomarkers for GC by analysis of miRNA expression using TCGA (The Cancer Genome Atlas) data.',\n",
       " 'Among them, miR-100, miR-125b, miR-199a and miR-194 were the 4 most promising prognostic biomarkers in GC due to their significant associations with various clinical characteristics of patients.',\n",
       " 'MiR-100, miR-125b and miR-199a predicted poor prognosis in GC, while miR-194 predicted favorable prognosis in GC.',\n",
       " 'We also provide\\xa0the\\xa0first\\xa0comprehensive transcriptome analysis of miR-194 in GC.',\n",
       " \"Our data suggest that miR-194 tends to regulated target genes by binding to their 3' untranslated regions in a 7-mer-A1, 7-mer-m8 or 8-mer manner.\",\n",
       " 'KEGG pathway analysis showed that the cell cycle was one of the pathways most affected by miR-194 in GC.',\n",
       " 'Moreover, CCND1 was shown to be a novel target gene of miR-194 in GC.',\n",
       " 'Additionally, downregulation of CCND1 by miR-194 in GC further led to cell growth inhibition and cell cycle arrest.']"
      ]
     },
     "execution_count": 58,
     "metadata": {},
     "output_type": "execute_result"
    }
   ],
   "source": [
    "all_test_sentences[0:5]"
   ]
  },
  {
   "cell_type": "code",
   "execution_count": 60,
   "metadata": {},
   "outputs": [
    {
     "name": "stdout",
     "output_type": "stream",
     "text": [
      "MicroRNAs play critical roles in regulating target gene expression and multiple cellular processes in human cancer malignant progression.\n",
      "() \n",
      "\n",
      "However, the function of miR-194 in gastric cancer (GC) remains unclear and controversial.\n",
      "() \n",
      "\n",
      "In this study, we identified a series of miRNAs that can serve as prognostic biomarkers for GC by analysis of miRNA expression using TCGA (The Cancer Genome Atlas) data.\n",
      "() \n",
      "\n",
      "Among them, miR-100, miR-125b, miR-199a and miR-194 were the 4 most promising prognostic biomarkers in GC due to their significant associations with various clinical characteristics of patients.\n",
      "() \n",
      "\n",
      "MiR-100, miR-125b and miR-199a predicted poor prognosis in GC, while miR-194 predicted favorable prognosis in GC.\n",
      "() \n",
      "\n"
     ]
    }
   ],
   "source": [
    "for doc in nlp.pipe(all_test_sentences[0:5]):\n",
    "    # Print the document text and entitites\n",
    "    print(doc.text)\n",
    "    print(doc.ents, '\\n')"
   ]
  },
  {
   "cell_type": "code",
   "execution_count": null,
   "metadata": {},
   "outputs": [],
   "source": [
    "from spacy.lang.en import English\n",
    "nlp = English()"
   ]
  }
 ],
 "metadata": {
  "kernelspec": {
   "display_name": "my_virtualenv",
   "language": "python",
   "name": "my_virtualenv"
  },
  "language_info": {
   "codemirror_mode": {
    "name": "ipython",
    "version": 3
   },
   "file_extension": ".py",
   "mimetype": "text/x-python",
   "name": "python",
   "nbconvert_exporter": "python",
   "pygments_lexer": "ipython3",
   "version": "3.7.4"
  }
 },
 "nbformat": 4,
 "nbformat_minor": 4
}
