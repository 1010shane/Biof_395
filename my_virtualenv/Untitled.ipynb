{
 "cells": [
  {
   "cell_type": "code",
   "execution_count": 7,
   "metadata": {},
   "outputs": [],
   "source": [
    "# Get articles :"
   ]
  },
  {
   "cell_type": "code",
   "execution_count": 8,
   "metadata": {},
   "outputs": [
    {
     "name": "stdout",
     "output_type": "stream",
     "text": [
      "Requirement already satisfied: xlrd in ./lib/python3.7/site-packages (2.0.1)\n"
     ]
    }
   ],
   "source": [
    "!pip install xlrd"
   ]
  },
  {
   "cell_type": "code",
   "execution_count": 8,
   "metadata": {},
   "outputs": [],
   "source": [
    "import urllib.request\n",
    "import io\n",
    "import gzip\n",
    "import os\n",
    "from pathlib import Path\n",
    "import pandas as pd\n",
    "try:\n",
    "    from Bio import Entrez\n",
    "except ModuleNotFoundError:\n",
    "    !pip install Bio\n",
    "    from Bio import Entrez\n",
    "import re\n",
    "\n",
    "\n",
    "response = urllib.request.urlopen('ftp://mirbase.org/pub/mirbase/CURRENT/miRNA.xls.gz')\n",
    "compressed_file = io.BytesIO(response.read())\n",
    "decompressed_file = gzip.GzipFile(fileobj=compressed_file)\n",
    "\n",
    "with open(Path(os.getcwd(), 'miRNA.xlsx'), 'wb') as outfile:\n",
    "    outfile.write(decompressed_file.read())\n",
    "\n",
    "mir_database = pd.read_excel('miRNA.xlsx')\n",
    "\n",
    "mir_database_1 = mir_database.loc[:, ['Accession', 'ID']]\n",
    "mir_database_2 = mir_database.loc[:, ['Mature1_Acc', 'Mature1_ID']].rename(columns = {'Mature1_Acc':'Accession', 'Mature1_ID':'ID'})\n",
    "mir_database_3 = mir_database.loc[:, ['Mature2_Acc', 'Mature2_ID']].rename(columns = {'Mature2_Acc':'Accession', 'Mature2_ID':'ID'})\n",
    "\n",
    "final_database = pd.concat([mir_database_1, mir_database_2, mir_database_3])"
   ]
  },
  {
   "cell_type": "code",
   "execution_count": 2,
   "metadata": {},
   "outputs": [],
   "source": [
    "def fetch_abstract(pmid):\n",
    "    handle = Entrez.efetch(db='pubmed', id = pmid, retmode='xml')\n",
    "    article = Entrez.read(handle)['PubmedArticle'][0]['MedlineCitation']['Article']\n",
    "    if 'Abstract' in article:\n",
    "            return article['Abstract']['AbstractText']\n",
    "        \n",
    "def concat_article(x):\n",
    "    final_article = str()\n",
    "    for i in range(len(x)):\n",
    "        final_article = final_article + str(x[i]) + ' '\n",
    "    return final_article"
   ]
  },
  {
   "cell_type": "code",
   "execution_count": 3,
   "metadata": {},
   "outputs": [],
   "source": [
    "def get_literature(user_mir):\n",
    "    \n",
    "    filtered_database = final_database[final_database['Accession']  == user_mir]['ID']\n",
    "    filtered_database = final_database[final_database['Accession']  == user_mir]['ID']\n",
    "\n",
    "    if filtered_database.size == 1:\n",
    "        mir = filtered_database.iloc[0]\n",
    "        print('The accession number ' + user_mir + ' corresponds to miR ' + mir)\n",
    "    else:\n",
    "        print('miR accession is incorrect. Try again (caps sensitive)')\n",
    "\n",
    "    Entrez.email = 'anonymous@gmail.com'\n",
    "    esearch_query = Entrez.esearch(db=\"pubmed\", term=\"mir-100\", retmode=\"xml\")\n",
    "    esearch_result = Entrez.read(esearch_query)\n",
    "    pmid_list = esearch_result['IdList']\n",
    "    print(\"pmid's obtained: \" + str(len(pmid_list)))\n",
    "    \n",
    "    abs_list = []\n",
    "\n",
    "    for i in pmid_list:\n",
    "        abs = fetch_abstract(i)\n",
    "        abs_list.append(abs)\n",
    "        \n",
    "    abs_list = [concat_article(i) for i in abs_list if i is not None]\n",
    "    \n",
    "    return(abs_list)"
   ]
  },
  {
   "cell_type": "code",
   "execution_count": 12,
   "metadata": {},
   "outputs": [],
   "source": [
    "training_mir = ['MI0000692', 'MI0000159', 'MI0000172', 'MI0000406', 'MI0000111']"
   ]
  },
  {
   "cell_type": "code",
   "execution_count": 4,
   "metadata": {},
   "outputs": [],
   "source": [
    "training_mir = ['MI0000692']"
   ]
  },
  {
   "cell_type": "code",
   "execution_count": 5,
   "metadata": {},
   "outputs": [
    {
     "name": "stdout",
     "output_type": "stream",
     "text": [
      "The accession number MI0000692 corresponds to miR mmu-mir-100\n",
      "pmid's obtained: 20\n"
     ]
    }
   ],
   "source": [
    "all_abstracts = []\n",
    "\n",
    "for i in training_mir:\n",
    "    abstracts = get_literature(i)\n",
    "    all_abstracts = all_abstracts + abstracts"
   ]
  },
  {
   "cell_type": "code",
   "execution_count": 6,
   "metadata": {},
   "outputs": [],
   "source": [
    "from nltk.tokenize import word_tokenize, sent_tokenize\n",
    "\n",
    "all_sentences = []\n",
    "\n",
    "for mir_abs in all_abstracts:\n",
    "    abstr_sentences = sent_tokenize(mir_abs)\n",
    "    all_sentences = all_sentences + abstr_sentences\n"
   ]
  },
  {
   "cell_type": "code",
   "execution_count": 23,
   "metadata": {},
   "outputs": [
    {
     "data": {
      "text/plain": [
       "['After a myocardial infarction, the adult human heart lacks sufficient regenerative capacity to restore lost tissue, leading to heart failure progression.',\n",
       " 'Finding novel ways to reprogram adult cardiomyocytes into a regenerative state is a major therapeutic goal.',\n",
       " 'The epicardium, the outermost layer of the heart, contributes cardiovascular cell types to the forming heart and is a source of trophic signals to promote heart muscle growth during embryonic development.',\n",
       " 'The epicardium is also essential for heart regeneration in zebrafish and neonatal mice and can be reactivated after injury in adult hearts to improve outcome.',\n",
       " 'A recently identified mechanism of cell-cell communication and signalling is that mediated by extracellular vesicles (EVs).',\n",
       " 'Here, we aimed to investigate epicardial signalling via EV release in response to cardiac injury and as a means to optimise cardiac repair and regeneration.',\n",
       " 'We isolated epicardial EVs from mouse and human sources and targeted the cardiomyocyte population.',\n",
       " 'Epicardial EVs enhanced proliferation in H9C2 cells and in primary neonatal murine cardiomyocytes in vitro and promoted cell cycle re-entry when injected into the injured area of infarcted neonatal hearts.']"
      ]
     },
     "execution_count": 23,
     "metadata": {},
     "output_type": "execute_result"
    }
   ],
   "source": [
    "all_sentences[12:20]"
   ]
  },
  {
   "cell_type": "code",
   "execution_count": 40,
   "metadata": {},
   "outputs": [
    {
     "name": "stdout",
     "output_type": "stream",
     "text": [
      "(0, 7)\n",
      "(12, 22)\n"
     ]
    },
    {
     "data": {
      "text/plain": [
       "[(0, 7), (12, 22)]"
      ]
     },
     "execution_count": 40,
     "metadata": {},
     "output_type": "execute_result"
    }
   ],
   "source": [
    "iter = re.finditer(r'mir[^\\s|.|,|!|?| |:|;]*', \"mir-100 and mir-100-5p are the same.\")\n",
    "[i for i in iter]\n",
    "[i.start() for i in iter]\n",
    "#[i.match() for i in iter]\n",
    "for i in re.finditer(r'mir[^\\s|.|,|!|?| |:|;]*', \"mir-100 and mir-100-5p are the same.\"):\n",
    "    print(i.span())\n",
    "[i.span() for i in re.finditer(r'mir[^\\s|.|,|!|?| |:|;]*', \"mir-100 and mir-100-5p are the same.\")]"
   ]
  },
  {
   "cell_type": "code",
   "execution_count": null,
   "metadata": {},
   "outputs": [],
   "source": []
  },
  {
   "cell_type": "code",
   "execution_count": 16,
   "metadata": {},
   "outputs": [
    {
     "data": {
      "text/plain": [
       "1065"
      ]
     },
     "execution_count": 16,
     "metadata": {},
     "output_type": "execute_result"
    }
   ],
   "source": [
    "len(all_sentences)"
   ]
  },
  {
   "cell_type": "code",
   "execution_count": 86,
   "metadata": {},
   "outputs": [],
   "source": [
    "def make_training_data(string, pattern):\n",
    "    counter = string.lower().find(pattern.lower())\n",
    "    end_miR = len(string)\n",
    "    \n",
    "    while counter + 1 < len(string):\n",
    "        counter += 1 \n",
    "        if string[counter] in \".,!? :;\":\n",
    "            end_miR = counter\n",
    "            counter = len(string)\n",
    "            \n",
    "    extracted_string = string[string.lower().find(pattern.lower()):end_miR]\n",
    "    \n",
    "    if string.lower().find(pattern.lower()) == -1 or not any(i.isdigit() for i in extracted_string):\n",
    "        return((string, {'entities': []}))\n",
    "    else:\n",
    "        return((string, {'entities': [(string.lower().find(pattern.lower()), end_miR, 'miR')]}))\n"
   ]
  },
  {
   "cell_type": "code",
   "execution_count": 87,
   "metadata": {},
   "outputs": [],
   "source": [
    "def check_training_data(string, pattern):\n",
    "    counter = string.lower().find(pattern.lower())\n",
    "    end_miR = len(string)\n",
    "    \n",
    "    while counter + 1 < len(string):\n",
    "        counter += 1 \n",
    "        if string[counter] in \".,!? :;\":\n",
    "            end_miR = counter\n",
    "            counter = len(string)\n",
    "           \n",
    "    extracted_string = string[string.lower().find(pattern.lower()):end_miR]    \n",
    "        \n",
    "    if string.lower().find(pattern.lower()) == -1 or not any(i.isdigit() for i in extracted_string):\n",
    "        return('')\n",
    "    else:\n",
    "        return(extracted_string)"
   ]
  },
  {
   "cell_type": "code",
   "execution_count": 88,
   "metadata": {},
   "outputs": [
    {
     "data": {
      "text/plain": [
       "['MicroRNAs play critical roles in regulating target gene expression and multiple cellular processes in human cancer malignant progression.',\n",
       " 'However, the function of miR-194 in gastric cancer (GC) remains unclear and controversial.',\n",
       " 'In this study, we identified a series of miRNAs that can serve as prognostic biomarkers for GC by analysis of miRNA expression using TCGA (The Cancer Genome Atlas) data.',\n",
       " 'Among them, miR-100, miR-125b, miR-199a and miR-194 were the 4 most promising prognostic biomarkers in GC due to their significant associations with various clinical characteristics of patients.',\n",
       " 'MiR-100, miR-125b and miR-199a predicted poor prognosis in GC, while miR-194 predicted favorable prognosis in GC.']"
      ]
     },
     "execution_count": 88,
     "metadata": {},
     "output_type": "execute_result"
    }
   ],
   "source": [
    "all_sentences[0:5]"
   ]
  },
  {
   "cell_type": "code",
   "execution_count": 89,
   "metadata": {},
   "outputs": [
    {
     "name": "stdout",
     "output_type": "stream",
     "text": [
      "<class 'tuple'>\n",
      "\n",
      "['', 'miR-194', '', 'miR-100', 'MiR-100']\n"
     ]
    }
   ],
   "source": [
    "print(type([make_training_data(i, 'miR') for i in all_sentences[0:5]][1]))\n",
    "print()\n",
    "print([check_training_data(i, 'miR') for i in all_sentences[0:5]])"
   ]
  },
  {
   "cell_type": "code",
   "execution_count": 90,
   "metadata": {},
   "outputs": [],
   "source": [
    "training_data = [make_training_data(i, 'miR') for i in all_sentences]"
   ]
  },
  {
   "cell_type": "code",
   "execution_count": 91,
   "metadata": {},
   "outputs": [
    {
     "data": {
      "text/plain": [
       "('However, the function of miR-194 in gastric cancer (GC) remains unclear and controversial.',\n",
       " {'entities': [(25, 32, 'miR')]})"
      ]
     },
     "execution_count": 91,
     "metadata": {},
     "output_type": "execute_result"
    }
   ],
   "source": [
    "training_data[1]"
   ]
  },
  {
   "cell_type": "code",
   "execution_count": 92,
   "metadata": {},
   "outputs": [],
   "source": [
    "import spacy\n",
    "import random"
   ]
  },
  {
   "cell_type": "code",
   "execution_count": 78,
   "metadata": {},
   "outputs": [
    {
     "name": "stdout",
     "output_type": "stream",
     "text": [
      "2.3.5\n"
     ]
    }
   ],
   "source": [
    "print(spacy.__version__)"
   ]
  },
  {
   "cell_type": "code",
   "execution_count": 96,
   "metadata": {},
   "outputs": [
    {
     "name": "stdout",
     "output_type": "stream",
     "text": [
      "Collecting spacy-lookups-data\n",
      "  Downloading spacy_lookups_data-1.0.0-py2.py3-none-any.whl (93.4 MB)\n",
      "\u001b[K     |████████████████████████████████| 93.4 MB 22 kB/s s eta 0:00:01   |█▌                              | 4.4 MB 4.5 MB/s eta 0:00:20     |███▏                            | 9.1 MB 4.5 MB/s eta 0:00:19     |███████████████                 | 44.0 MB 13.4 MB/s eta 0:00:04     |███████████████████████▍        | 68.1 MB 13.2 MB/s eta 0:00:02\n",
      "\u001b[?25hRequirement already satisfied: setuptools in ./lib/python3.7/site-packages (from spacy-lookups-data) (40.8.0)\n",
      "Installing collected packages: spacy-lookups-data\n",
      "Successfully installed spacy-lookups-data-1.0.0\n"
     ]
    }
   ],
   "source": [
    "!pip install spacy-lookups-data"
   ]
  },
  {
   "cell_type": "code",
   "execution_count": 97,
   "metadata": {},
   "outputs": [],
   "source": [
    "def train_spacy(data,iterations):\n",
    "    TRAIN_DATA = data\n",
    "    nlp = spacy.blank('en')  # create blank Language class\n",
    "    # create the built-in pipeline components and add them to the pipeline\n",
    "    # nlp.create_pipe works for built-ins that are registered with spaCy\n",
    "    if 'ner' not in nlp.pipe_names:\n",
    "        ner = nlp.create_pipe('ner')\n",
    "        nlp.add_pipe(ner, last=True)\n",
    "       \n",
    "\n",
    "    # add labels\n",
    "    for _, annotations in TRAIN_DATA:\n",
    "         for ent in annotations.get('entities'):\n",
    "            ner.add_label(ent[2])\n",
    "\n",
    "    # get names of other pipes to disable them during training\n",
    "    other_pipes = [pipe for pipe in nlp.pipe_names if pipe != 'ner']\n",
    "    with nlp.disable_pipes(*other_pipes):  # only train NER\n",
    "        optimizer = nlp.begin_training()\n",
    "        for itn in range(iterations):\n",
    "            print(\"Starting iteration \" + str(itn))\n",
    "            random.shuffle(TRAIN_DATA)\n",
    "            losses = {}\n",
    "            for text, annotations in TRAIN_DATA:\n",
    "                nlp.update(\n",
    "                    [text],  # batch of texts\n",
    "                    [annotations],  # batch of annotations\n",
    "                    drop=0.2,  # dropout - make it harder to memorise data\n",
    "                    sgd=optimizer,  # callable to update weights\n",
    "                    losses=losses)\n",
    "            print(losses)\n",
    "    return nlp"
   ]
  },
  {
   "cell_type": "code",
   "execution_count": 100,
   "metadata": {},
   "outputs": [
    {
     "name": "stdout",
     "output_type": "stream",
     "text": [
      "Statring iteration 0\n",
      "{'ner': 540.7753894802347}\n",
      "Statring iteration 1\n",
      "{'ner': 121.3353181946998}\n",
      "Statring iteration 2\n",
      "{'ner': 180.8156804720977}\n",
      "Statring iteration 3\n",
      "{'ner': 159.823294482903}\n",
      "Statring iteration 4\n",
      "{'ner': 109.46729700126087}\n",
      "Statring iteration 5\n",
      "{'ner': 93.3332711722388}\n",
      "Statring iteration 6\n",
      "{'ner': 61.53049516743217}\n",
      "Statring iteration 7\n",
      "{'ner': 42.50040410344927}\n",
      "Statring iteration 8\n",
      "{'ner': 12.63705921049174}\n",
      "Statring iteration 9\n",
      "{'ner': 30.73334057955599}\n",
      "Statring iteration 10\n",
      "{'ner': 46.06847185864277}\n",
      "Statring iteration 11\n",
      "{'ner': 0.0016748744729511566}\n",
      "Statring iteration 12\n",
      "{'ner': 0.02129791527256239}\n",
      "Statring iteration 13\n",
      "{'ner': 4.689143328467551e-09}\n",
      "Statring iteration 14\n",
      "{'ner': 38.90907874504627}\n",
      "Statring iteration 15\n",
      "{'ner': 31.50245819976662}\n",
      "Statring iteration 16\n",
      "{'ner': 24.160864319264878}\n",
      "Statring iteration 17\n",
      "{'ner': 27.48014735164433}\n",
      "Statring iteration 18\n",
      "{'ner': 26.16853955596753}\n",
      "Statring iteration 19\n",
      "{'ner': 17.831414355206892}\n"
     ]
    }
   ],
   "source": [
    "miRnlp = train_spacy(training_data, 20)"
   ]
  },
  {
   "cell_type": "code",
   "execution_count": 106,
   "metadata": {},
   "outputs": [],
   "source": [
    "test_miR = ['MI0000684']"
   ]
  },
  {
   "cell_type": "code",
   "execution_count": 107,
   "metadata": {},
   "outputs": [
    {
     "name": "stdout",
     "output_type": "stream",
     "text": [
      "The accession number MI0000684 corresponds to miR mmu-mir-107\n",
      "pmid's obtained: 20\n"
     ]
    }
   ],
   "source": [
    "all_test_abstracts = []\n",
    "\n",
    "for i in test_miR:\n",
    "    abstracts = get_literature(i)\n",
    "    all_test_abstracts = all_test_abstracts + abstracts\n",
    "\n",
    "all_test_sentences = []\n",
    "\n",
    "for mir_abs in all_test_abstracts:\n",
    "    abstr_sentences = sent_tokenize(mir_abs)\n",
    "    all_test_sentences = all_test_sentences + abstr_sentences"
   ]
  },
  {
   "cell_type": "code",
   "execution_count": 111,
   "metadata": {},
   "outputs": [
    {
     "name": "stdout",
     "output_type": "stream",
     "text": [
      "Entities []\n",
      "Entities [('miR-194', 'miR')]\n",
      "Entities []\n",
      "Entities [('miR-100', 'miR')]\n",
      "Entities [('MiR-100', 'miR')]\n",
      "Entities [('miR-194', 'miR')]\n",
      "Entities [('miR-194', 'miR')]\n",
      "Entities [('miR-194', 'miR')]\n",
      "Entities [('miR-194', 'miR')]\n",
      "Entities [('miR-194', 'miR')]\n",
      "Entities [('miR-100', 'miR')]\n",
      "Entities [('MiR-194', 'miR')]\n",
      "Entities []\n",
      "Entities []\n",
      "Entities []\n",
      "Entities []\n",
      "Entities []\n",
      "Entities []\n",
      "Entities []\n",
      "Entities []\n"
     ]
    }
   ],
   "source": [
    "for i in all_test_sentences[0:20]:\n",
    "    doc = miRnlp(i)\n",
    "    print(\"Entities\", [(ent.text, ent.label_) for ent in doc.ents])"
   ]
  },
  {
   "cell_type": "code",
   "execution_count": 108,
   "metadata": {},
   "outputs": [
    {
     "data": {
      "text/plain": [
       "['MicroRNAs play critical roles in regulating target gene expression and multiple cellular processes in human cancer malignant progression.',\n",
       " 'However, the function of miR-194 in gastric cancer (GC) remains unclear and controversial.',\n",
       " 'In this study, we identified a series of miRNAs that can serve as prognostic biomarkers for GC by analysis of miRNA expression using TCGA (The Cancer Genome Atlas) data.',\n",
       " 'Among them, miR-100, miR-125b, miR-199a and miR-194 were the 4 most promising prognostic biomarkers in GC due to their significant associations with various clinical characteristics of patients.',\n",
       " 'MiR-100, miR-125b and miR-199a predicted poor prognosis in GC, while miR-194 predicted favorable prognosis in GC.']"
      ]
     },
     "execution_count": 108,
     "metadata": {},
     "output_type": "execute_result"
    }
   ],
   "source": [
    "all_test_sentences[0:5]"
   ]
  },
  {
   "cell_type": "code",
   "execution_count": 112,
   "metadata": {},
   "outputs": [
    {
     "name": "stdout",
     "output_type": "stream",
     "text": [
      "Entities []\n"
     ]
    }
   ],
   "source": [
    "test_string = 'However, the function of miR-193 in gastric cancer (GC) remains unclear and controversial.'\n",
    "\n",
    "doc = miRnlp(test_string)\n",
    "print(\"Entities\", [(ent.text, ent.label_) for ent in doc.ents])"
   ]
  }
 ],
 "metadata": {
  "kernelspec": {
   "display_name": "my_virtualenv",
   "language": "python",
   "name": "my_virtualenv"
  },
  "language_info": {
   "codemirror_mode": {
    "name": "ipython",
    "version": 3
   },
   "file_extension": ".py",
   "mimetype": "text/x-python",
   "name": "python",
   "nbconvert_exporter": "python",
   "pygments_lexer": "ipython3",
   "version": "3.7.4"
  }
 },
 "nbformat": 4,
 "nbformat_minor": 4
}
