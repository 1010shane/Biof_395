{
 "cells": [
  {
   "cell_type": "markdown",
   "metadata": {},
   "source": [
    "# **Biof395 Final Project**\n",
    "Shane Chambers"
   ]
  },
  {
   "cell_type": "markdown",
   "metadata": {},
   "source": [
    "## **Overview and Description**\n",
    "\n",
    "The goal of this project is to make a dynamic application that will summarize the literature findings surrounding a miRNA that the user inputs into the program. This will require the program to:\n",
    "- Receive user input\n",
    "- Query and download the relevant literature \n",
    "- process the literature \n",
    "- Transform the literature into feature representations\n",
    "- Build a text mining model\n",
    "- Evaluate the performance of the model\n",
    "\n",
    "We will work through each aspect of this process below."
   ]
  },
  {
   "cell_type": "markdown",
   "metadata": {},
   "source": [
    "## **Receive User Input**\n",
    "\n",
    "First, we will prompt the user to enter the [miRBase](http://www.mirbase.org/) accession of their miRNA of interest. This is a unique code associated with every known miRNA that standardizes the nomenclature to avoid confusion."
   ]
  },
  {
   "cell_type": "code",
   "execution_count": 1,
   "metadata": {},
   "outputs": [],
   "source": [
    "#user_mir = input('Enter the miRbase accession number of your miR of interest:')\n",
    "\n",
    "# For this example, we will enter the accession of mmu-mir-100; MI0000692\n",
    "\n",
    "user_mir = 'MI0000692'"
   ]
  },
  {
   "cell_type": "markdown",
   "metadata": {},
   "source": [
    "Now, we will reference this to a database downloaded from the miRbase FTP site [containing every known miR and its accession number.](ftp://mirbase.org/pub/mirbase/CURRENT/miRNA.xls.gz) This file has been unzipped and downloaded, and is saved in this folder as `miRNA.xlsx`. Below, we will import and manipulate it using `pandas` so that the `user_mir` can be queried against it. "
   ]
  },
  {
   "cell_type": "code",
   "execution_count": 9,
   "metadata": {},
   "outputs": [],
   "source": [
    "import urllib.request\n",
    "import io\n",
    "import gzip\n",
    "import os\n",
    "from pathlib import Path\n",
    "\n",
    "response = urllib.request.urlopen('ftp://mirbase.org/pub/mirbase/CURRENT/miRNA.xls.gz')\n",
    "compressed_file = io.BytesIO(response.read())\n",
    "decompressed_file = gzip.GzipFile(fileobj=compressed_file)\n",
    "\n",
    "with open(Path(os.getcwd(), 'miRNA.xlsx'), 'wb') as outfile:\n",
    "    outfile.write(decompressed_file.read())"
   ]
  },
  {
   "cell_type": "code",
   "execution_count": 10,
   "metadata": {},
   "outputs": [
    {
     "data": {
      "text/html": [
       "<div>\n",
       "<style scoped>\n",
       "    .dataframe tbody tr th:only-of-type {\n",
       "        vertical-align: middle;\n",
       "    }\n",
       "\n",
       "    .dataframe tbody tr th {\n",
       "        vertical-align: top;\n",
       "    }\n",
       "\n",
       "    .dataframe thead th {\n",
       "        text-align: right;\n",
       "    }\n",
       "</style>\n",
       "<table border=\"1\" class=\"dataframe\">\n",
       "  <thead>\n",
       "    <tr style=\"text-align: right;\">\n",
       "      <th></th>\n",
       "      <th>Accession</th>\n",
       "      <th>ID</th>\n",
       "    </tr>\n",
       "  </thead>\n",
       "  <tbody>\n",
       "    <tr>\n",
       "      <td>0</td>\n",
       "      <td>MI0000001</td>\n",
       "      <td>cel-let-7</td>\n",
       "    </tr>\n",
       "    <tr>\n",
       "      <td>1</td>\n",
       "      <td>MI0000002</td>\n",
       "      <td>cel-lin-4</td>\n",
       "    </tr>\n",
       "    <tr>\n",
       "      <td>2</td>\n",
       "      <td>MI0000003</td>\n",
       "      <td>cel-mir-1</td>\n",
       "    </tr>\n",
       "    <tr>\n",
       "      <td>3</td>\n",
       "      <td>MI0000004</td>\n",
       "      <td>cel-mir-2</td>\n",
       "    </tr>\n",
       "    <tr>\n",
       "      <td>4</td>\n",
       "      <td>MI0000005</td>\n",
       "      <td>cel-mir-34</td>\n",
       "    </tr>\n",
       "  </tbody>\n",
       "</table>\n",
       "</div>"
      ],
      "text/plain": [
       "   Accession          ID\n",
       "0  MI0000001   cel-let-7\n",
       "1  MI0000002   cel-lin-4\n",
       "2  MI0000003   cel-mir-1\n",
       "3  MI0000004   cel-mir-2\n",
       "4  MI0000005  cel-mir-34"
      ]
     },
     "execution_count": 10,
     "metadata": {},
     "output_type": "execute_result"
    }
   ],
   "source": [
    "import pandas as pd\n",
    "\n",
    "mir_database = pd.read_excel('miRNA.xlsx')\n",
    "\n",
    "mir_database_1 = mir_database.loc[:, ['Accession', 'ID']]\n",
    "mir_database_2 = mir_database.loc[:, ['Mature1_Acc', 'Mature1_ID']].rename(columns = {'Mature1_Acc':'Accession', 'Mature1_ID':'ID'})\n",
    "mir_database_3 = mir_database.loc[:, ['Mature2_Acc', 'Mature2_ID']].rename(columns = {'Mature2_Acc':'Accession', 'Mature2_ID':'ID'})\n",
    "\n",
    "final_database = pd.concat([mir_database_1, mir_database_2, mir_database_3])\n",
    "\n",
    "final_database.head()"
   ]
  },
  {
   "cell_type": "markdown",
   "metadata": {},
   "source": [
    "Now, we need to query the `user_mir` against this database and store the corresponding `ID` as the item we will search in pubmed. We will also check that there is an `ID` that corresponds with the given accession number. "
   ]
  },
  {
   "cell_type": "code",
   "execution_count": 3,
   "metadata": {},
   "outputs": [
    {
     "name": "stdout",
     "output_type": "stream",
     "text": [
      "The accession number MI0000692 corresponds to miR mmu-mir-100\n"
     ]
    }
   ],
   "source": [
    "filtered_database = final_database[final_database['Accession']  == user_mir]['ID']\n",
    "\n",
    "if filtered_database.size == 1:\n",
    "    mir = filtered_database.iloc[0]\n",
    "    print('The accession number ' + user_mir + ' corresponds to miR ' + mir)\n",
    "else:\n",
    "    print('miR accession is incorrect. Try again (caps sensitive)')"
   ]
  },
  {
   "cell_type": "markdown",
   "metadata": {},
   "source": [
    "## **Obtaining Relevant Literature**\n",
    "\n",
    "Using the corresponding miR, we will query pubmed and get relevant abstracts. "
   ]
  },
  {
   "cell_type": "code",
   "execution_count": 4,
   "metadata": {},
   "outputs": [],
   "source": [
    "from Bio import Entrez\n",
    "\n",
    "Entrez.email = 'anonymous@gmail.com'\n",
    "esearch_query = Entrez.esearch(db=\"pubmed\", term=\"mir-100\", retmode=\"xml\")\n",
    "esearch_result = Entrez.read(esearch_query)\n",
    "pmid_list = esearch_result['IdList']"
   ]
  },
  {
   "cell_type": "markdown",
   "metadata": {},
   "source": [
    "This fetches the pubmed ID's of literature that corresponds to our search, which we can preview below:"
   ]
  },
  {
   "cell_type": "code",
   "execution_count": 5,
   "metadata": {},
   "outputs": [
    {
     "name": "stdout",
     "output_type": "stream",
     "text": [
      "pmid's obtained: 20\n",
      "Example pmid: 33592729\n"
     ]
    }
   ],
   "source": [
    "print(\"pmid's obtained: \" + str(len(pmid_list)))\n",
    "\n",
    "print(\"Example pmid: \" + str(pmid_list[0]))"
   ]
  },
  {
   "cell_type": "markdown",
   "metadata": {},
   "source": [
    "Now, we will create a function to fetch the abstract given the pmid:"
   ]
  },
  {
   "cell_type": "code",
   "execution_count": 6,
   "metadata": {},
   "outputs": [],
   "source": [
    "def fetch_abstract(pmid):\n",
    "    handle = Entrez.efetch(db='pubmed', id = pmid, retmode='xml')\n",
    "    article = Entrez.read(handle)['PubmedArticle'][0]['MedlineCitation']['Article']\n",
    "    if 'Abstract' in article:\n",
    "            return article['Abstract']['AbstractText']"
   ]
  },
  {
   "cell_type": "markdown",
   "metadata": {},
   "source": [
    "And now, we can iterate through the PMID's and download each corresponging abstract:"
   ]
  },
  {
   "cell_type": "code",
   "execution_count": 7,
   "metadata": {},
   "outputs": [],
   "source": [
    "test_dict = {}\n",
    "\n",
    "counter = 0\n",
    "for i in pmid_list:\n",
    "    counter += 1\n",
    "    title = 'article_' + str(counter)\n",
    "    abs = fetch_abstract(i)\n",
    "    test_dict[title] = abs"
   ]
  },
  {
   "cell_type": "markdown",
   "metadata": {},
   "source": [
    "Now, let's look at some of the abstracts we downloaded and see if any further processing is needed:"
   ]
  },
  {
   "cell_type": "code",
   "execution_count": 8,
   "metadata": {},
   "outputs": [
    {
     "name": "stdout",
     "output_type": "stream",
     "text": [
      "['Gastric cancer (GC) is a common malignant digestive tract tumor that leads to high mortality worldwide. Early diagnosis of GC is very important for adequate treatment. However, a rapid, specific and sensitive method for the detection of GC is currently not available. Here, a biosensor CPs/AuNP-AuE, the gold nanoparticle (AuNP)-modified Au electrode (AuE) which was coupled with DNA capture probes (CPs), was developed to detect the content of miR-100 in the sera of GC patients. The results showed that AuNPs were uniformly deposited on the surface of AuE. AuNPs enhanced the electrical conductivity and improved the effective area of AuE. CPs were successfully assembled on AuNP-AuE that could be digested by duplex-specific nuclease (DSN) from the miR-100/CPs complex on the electrode, improving the sensitivity of the biosensor by recycling miR-100. The data revealed that the biosensor was highly specific for the detection of miR-100, which had the ability to distinguish one base-pair mistake in miR-100. The detection of the biosensor for miR-100 ranged from 100 aM to 10 pM and the limit of detection (LOD) was estimated to be 100 aM. The detection results of 100 human sera samples using this biosensor indicated that the cutoff for the detection of gastric cancer was 5\\xa0fM. Therefore the biosensor developed in our study served as\\xa0a rapid, specific and sensitive strategy for the detection of gastric cancer in clinic.']\n",
      "\n",
      "['Hepatocellular carcinoma (HCC) is one of the deadliest malignant tumors that are harmful to human health. Increasing evidence has underscored the critical role of the competitive endogenous RNA (ceRNA) regulatory networks among various human cancers. However, the complexity and behavior characteristics of the ceRNA network in HCC were still unclear. In this study, we aimed to clarify a phosphatase and tensin homolog (PTEN)-related ceRNA regulatory network and identify potential prognostic markers associated with HCC. The expression profiles of three RNAs (long non-coding RNAs [lncRNAs], microRNAs [miRNAs], and mRNAs) were extracted from The Cancer Genome Atlas (TCGA) database. The DLEU2L-hsa-miR-100-5p/ hsa-miR-99a-5p-TAOK1 ceRNA network related to the prognosis of HCC was obtained by performing bioinformatics analysis. Importantly, we identified the DLEU2L/TAOK1 axis in the ceRNA by using correlation analysis, and it appeared to become a clinical prognostic model by Cox regression analysis. Furthermore, methylation analyses suggested that the abnormal upregulation of the DLEU2L/TAOK1 axis likely resulted from hypomethylation, and immune infiltration analysis showed that the DLEU2L/TAOK1 axis may have an impact on the changes in the tumor immune microenvironment and the development of HCC. In summary, the current study constructing a ceRNA-based DLEU2L/TAOK1 axis might be a novel important prognostic factor associated with the diagnosis and prognosis of HCC.']\n",
      "\n",
      "['To clarify crucial key micro-RNAs and mRNAs associated with hand, foot, and mouth disease (HFMD) virus infection, we conducted this bioinformatics analysis from four GEO datasets. The following datasets were used for the analysis: GSE85829, GSE94551, GSE52780, and GSE45589. Differentially expressed genes (DEGs) were acquired, and the analysis of functional and pathway enrichment and the relative regulatory network were conducted. After screening common differentially expressed miRNAs (DE-miRNAs), five key miRNAs were acquired: miR-100-3p, miR-125a-3p, miR-1273g-3p, miR-5585-3p, and miR-671-5p. There were three common enriched GO terms between miRNA-derived prediction and mRNA-derived analysis: biosynthetic process, cytosol, and nucleoplasm. There was one common KEGG pathway, i.e., cell cycle shared between miRNA-based and mRNA-based enrichment. Using TarBase V8 in DIANA tools, we acquired 1,520 potential targets (mRNA) from the five key DE-miRNAs, among which the159 DE-mRNAs also included 11 DEGs. These common DEGs showed a PPI network mainly connected by SMC1A, SMARCC1, SF3B3, LIG1, and BRMS1L. Together, changes in five key miRNAs and 11 key mRNAs may play crucial roles in HFMD progression. A combination of these roles may benefit the early diagnosis and treatment of HFMD.']\n",
      "\n",
      "[StringElement('Several studies have reported an association between microRNAs (miRNAs) and hypertension or cardiovascular disease (CVD). In a previous study performed on a group of 38 patients, we observed a cluster of 3 miRNAs (miR-378a-3p, miR-100-5p, and miR-486-5p) that were functionally associated with the cardiovascular system that predicted a favorable blood pressure (BP) response to continuous positive airway pressure (CPAP) treatment in patients with resistant hypertension (RH) and obstructive sleep apnea (OSA) (HIPARCO score). However, little is known regarding the molecular mechanisms underlying this phenomenon.', attributes={'Label': 'BACKGROUND', 'NlmCategory': 'BACKGROUND'}), StringElement('The aim of the study was to perform a post hoc analysis to investigate the genes, functions, and pathways related to the previously found HIPARCO score miRNAs.', attributes={'Label': 'OBJECTIVES', 'NlmCategory': 'OBJECTIVE'}), StringElement('We performed an enrichment analysis using Ingenuity pathway analysis. The genes potentially associated with the miRNAs were filtered based on their confidence level. Particularly for CVD, only the genes regulated by at least 2 of the miRNAs were studied.', attributes={'Label': 'METHODS', 'NlmCategory': 'METHODS'}), StringElement('We observed that the miRNAs studied regulate 200-249 molecules associated with several functions and diseases, including extracranial solid tumors and abdominal neoplasms, among others. The cardiac hypertrophy and NF-kB signaling pathways were identified as the cardiovascular pathways most influenced by these 3 miRNAs.', attributes={'Label': 'RESULTS', 'NlmCategory': 'RESULTS'}), StringElement('The mechanisms by which CPAP treatment decreases the BP in OSA patients with RH could be related to the cardiac hypertrophy and NF-kB signaling pathways. Further investigations will be necessary to confirm these findings, contributing to the elucidation of new therapeutic targets in patients who do not respond to CPAP treatment.', attributes={'Label': 'CONCLUSIONS', 'NlmCategory': 'CONCLUSIONS'})]\n"
     ]
    }
   ],
   "source": [
    "print(test_dict['article_1'])\n",
    "print()\n",
    "print(test_dict['article_2'])\n",
    "print()\n",
    "print(test_dict['article_3'])\n",
    "print()\n",
    "print(test_dict['article_4'])"
   ]
  },
  {
   "cell_type": "markdown",
   "metadata": {},
   "source": [
    "As we can see, `article_4` is not formatted correctly. Unlike others, this abstract is split up into different sections (intro, methods, results, etc.). To fix this, we need to concatenate all sections into one coherent text chunk. Below we will design a function to detect articles in this format, and to concatenate them and replace them in the dictionary with the correctly formatted text."
   ]
  },
  {
   "cell_type": "code",
   "execution_count": 9,
   "metadata": {},
   "outputs": [
    {
     "data": {
      "text/plain": [
       "5"
      ]
     },
     "execution_count": 9,
     "metadata": {},
     "output_type": "execute_result"
    }
   ],
   "source": [
    "len(test_dict['article_4'])"
   ]
  },
  {
   "cell_type": "code",
   "execution_count": 10,
   "metadata": {},
   "outputs": [
    {
     "data": {
      "text/plain": [
       "1"
      ]
     },
     "execution_count": 10,
     "metadata": {},
     "output_type": "execute_result"
    }
   ],
   "source": [
    "len(test_dict['article_1'])"
   ]
  },
  {
   "cell_type": "code",
   "execution_count": 11,
   "metadata": {},
   "outputs": [
    {
     "data": {
      "text/plain": [
       "'Several studies have reported an association between microRNAs (miRNAs) and hypertension or cardiovascular disease (CVD). In a previous study performed on a group of 38 patients, we observed a cluster of 3 miRNAs (miR-378a-3p, miR-100-5p, and miR-486-5p) that were functionally associated with the cardiovascular system that predicted a favorable blood pressure (BP) response to continuous positive airway pressure (CPAP) treatment in patients with resistant hypertension (RH) and obstructive sleep apnea (OSA) (HIPARCO score). However, little is known regarding the molecular mechanisms underlying this phenomenon.'"
      ]
     },
     "execution_count": 11,
     "metadata": {},
     "output_type": "execute_result"
    }
   ],
   "source": [
    "str(test_dict['article_4'][0])"
   ]
  },
  {
   "cell_type": "code",
   "execution_count": 12,
   "metadata": {},
   "outputs": [],
   "source": [
    "def concat_article(x):\n",
    "    final_article = str()\n",
    "    for i in range(len(x)):\n",
    "        final_article = final_article + str(x[i]) + ' '\n",
    "    return final_article"
   ]
  },
  {
   "cell_type": "markdown",
   "metadata": {},
   "source": [
    "Testing this function on `article_4` (which it should fix) and `article_1` (which it should do nothing to):"
   ]
  },
  {
   "cell_type": "code",
   "execution_count": 13,
   "metadata": {},
   "outputs": [
    {
     "name": "stdout",
     "output_type": "stream",
     "text": [
      "Several studies have reported an association between microRNAs (miRNAs) and hypertension or cardiovascular disease (CVD). In a previous study performed on a group of 38 patients, we observed a cluster of 3 miRNAs (miR-378a-3p, miR-100-5p, and miR-486-5p) that were functionally associated with the cardiovascular system that predicted a favorable blood pressure (BP) response to continuous positive airway pressure (CPAP) treatment in patients with resistant hypertension (RH) and obstructive sleep apnea (OSA) (HIPARCO score). However, little is known regarding the molecular mechanisms underlying this phenomenon. The aim of the study was to perform a post hoc analysis to investigate the genes, functions, and pathways related to the previously found HIPARCO score miRNAs. We performed an enrichment analysis using Ingenuity pathway analysis. The genes potentially associated with the miRNAs were filtered based on their confidence level. Particularly for CVD, only the genes regulated by at least 2 of the miRNAs were studied. We observed that the miRNAs studied regulate 200-249 molecules associated with several functions and diseases, including extracranial solid tumors and abdominal neoplasms, among others. The cardiac hypertrophy and NF-kB signaling pathways were identified as the cardiovascular pathways most influenced by these 3 miRNAs. The mechanisms by which CPAP treatment decreases the BP in OSA patients with RH could be related to the cardiac hypertrophy and NF-kB signaling pathways. Further investigations will be necessary to confirm these findings, contributing to the elucidation of new therapeutic targets in patients who do not respond to CPAP treatment. \n",
      "\n",
      "Gastric cancer (GC) is a common malignant digestive tract tumor that leads to high mortality worldwide. Early diagnosis of GC is very important for adequate treatment. However, a rapid, specific and sensitive method for the detection of GC is currently not available. Here, a biosensor CPs/AuNP-AuE, the gold nanoparticle (AuNP)-modified Au electrode (AuE) which was coupled with DNA capture probes (CPs), was developed to detect the content of miR-100 in the sera of GC patients. The results showed that AuNPs were uniformly deposited on the surface of AuE. AuNPs enhanced the electrical conductivity and improved the effective area of AuE. CPs were successfully assembled on AuNP-AuE that could be digested by duplex-specific nuclease (DSN) from the miR-100/CPs complex on the electrode, improving the sensitivity of the biosensor by recycling miR-100. The data revealed that the biosensor was highly specific for the detection of miR-100, which had the ability to distinguish one base-pair mistake in miR-100. The detection of the biosensor for miR-100 ranged from 100 aM to 10 pM and the limit of detection (LOD) was estimated to be 100 aM. The detection results of 100 human sera samples using this biosensor indicated that the cutoff for the detection of gastric cancer was 5 fM. Therefore the biosensor developed in our study served as a rapid, specific and sensitive strategy for the detection of gastric cancer in clinic. \n"
     ]
    }
   ],
   "source": [
    "print(concat_article(test_dict['article_4']))\n",
    "print()\n",
    "print(concat_article(test_dict['article_1']))"
   ]
  },
  {
   "cell_type": "markdown",
   "metadata": {},
   "source": [
    "Now, we will iterate through our dictionary and concatenate all our articles using the function above:"
   ]
  },
  {
   "cell_type": "code",
   "execution_count": 14,
   "metadata": {},
   "outputs": [],
   "source": [
    "for i in test_dict:\n",
    "    i = concat_article(i)"
   ]
  },
  {
   "cell_type": "markdown",
   "metadata": {},
   "source": [
    "And look at articles 1 and 4 to ensure they are formatted how we'd like: "
   ]
  },
  {
   "cell_type": "code",
   "execution_count": 15,
   "metadata": {},
   "outputs": [
    {
     "name": "stdout",
     "output_type": "stream",
     "text": [
      "[StringElement('Several studies have reported an association between microRNAs (miRNAs) and hypertension or cardiovascular disease (CVD). In a previous study performed on a group of 38 patients, we observed a cluster of 3 miRNAs (miR-378a-3p, miR-100-5p, and miR-486-5p) that were functionally associated with the cardiovascular system that predicted a favorable blood pressure (BP) response to continuous positive airway pressure (CPAP) treatment in patients with resistant hypertension (RH) and obstructive sleep apnea (OSA) (HIPARCO score). However, little is known regarding the molecular mechanisms underlying this phenomenon.', attributes={'Label': 'BACKGROUND', 'NlmCategory': 'BACKGROUND'}), StringElement('The aim of the study was to perform a post hoc analysis to investigate the genes, functions, and pathways related to the previously found HIPARCO score miRNAs.', attributes={'Label': 'OBJECTIVES', 'NlmCategory': 'OBJECTIVE'}), StringElement('We performed an enrichment analysis using Ingenuity pathway analysis. The genes potentially associated with the miRNAs were filtered based on their confidence level. Particularly for CVD, only the genes regulated by at least 2 of the miRNAs were studied.', attributes={'Label': 'METHODS', 'NlmCategory': 'METHODS'}), StringElement('We observed that the miRNAs studied regulate 200-249 molecules associated with several functions and diseases, including extracranial solid tumors and abdominal neoplasms, among others. The cardiac hypertrophy and NF-kB signaling pathways were identified as the cardiovascular pathways most influenced by these 3 miRNAs.', attributes={'Label': 'RESULTS', 'NlmCategory': 'RESULTS'}), StringElement('The mechanisms by which CPAP treatment decreases the BP in OSA patients with RH could be related to the cardiac hypertrophy and NF-kB signaling pathways. Further investigations will be necessary to confirm these findings, contributing to the elucidation of new therapeutic targets in patients who do not respond to CPAP treatment.', attributes={'Label': 'CONCLUSIONS', 'NlmCategory': 'CONCLUSIONS'})]\n",
      "\n",
      "['Gastric cancer (GC) is a common malignant digestive tract tumor that leads to high mortality worldwide. Early diagnosis of GC is very important for adequate treatment. However, a rapid, specific and sensitive method for the detection of GC is currently not available. Here, a biosensor CPs/AuNP-AuE, the gold nanoparticle (AuNP)-modified Au electrode (AuE) which was coupled with DNA capture probes (CPs), was developed to detect the content of miR-100 in the sera of GC patients. The results showed that AuNPs were uniformly deposited on the surface of AuE. AuNPs enhanced the electrical conductivity and improved the effective area of AuE. CPs were successfully assembled on AuNP-AuE that could be digested by duplex-specific nuclease (DSN) from the miR-100/CPs complex on the electrode, improving the sensitivity of the biosensor by recycling miR-100. The data revealed that the biosensor was highly specific for the detection of miR-100, which had the ability to distinguish one base-pair mistake in miR-100. The detection of the biosensor for miR-100 ranged from 100 aM to 10 pM and the limit of detection (LOD) was estimated to be 100 aM. The detection results of 100 human sera samples using this biosensor indicated that the cutoff for the detection of gastric cancer was 5\\xa0fM. Therefore the biosensor developed in our study served as\\xa0a rapid, specific and sensitive strategy for the detection of gastric cancer in clinic.']\n"
     ]
    }
   ],
   "source": [
    "print(test_dict['article_4'])\n",
    "print()\n",
    "print(test_dict['article_1'])"
   ]
  }
 ],
 "metadata": {
  "kernelspec": {
   "display_name": "Python 3",
   "language": "python",
   "name": "python3"
  },
  "language_info": {
   "codemirror_mode": {
    "name": "ipython",
    "version": 3
   },
   "file_extension": ".py",
   "mimetype": "text/x-python",
   "name": "python",
   "nbconvert_exporter": "python",
   "pygments_lexer": "ipython3",
   "version": "3.7.4"
  }
 },
 "nbformat": 4,
 "nbformat_minor": 4
}
