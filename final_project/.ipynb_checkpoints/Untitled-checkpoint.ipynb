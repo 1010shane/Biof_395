{
 "cells": [
  {
   "cell_type": "code",
   "execution_count": null,
   "metadata": {},
   "outputs": [],
   "source": [
    "# Get articles :"
   ]
  },
  {
   "cell_type": "code",
   "execution_count": 12,
   "metadata": {},
   "outputs": [],
   "source": [
    "import urllib.request\n",
    "import io\n",
    "import gzip\n",
    "import os\n",
    "from pathlib import Path\n",
    "import pandas as pd\n",
    "try:\n",
    "    from Bio import Entrez\n",
    "except ModuleNotFoundError:\n",
    "    !pip install Bio\n",
    "    from Bio import Entrez\n",
    "\n",
    "\n",
    "response = urllib.request.urlopen('ftp://mirbase.org/pub/mirbase/CURRENT/miRNA.xls.gz')\n",
    "compressed_file = io.BytesIO(response.read())\n",
    "decompressed_file = gzip.GzipFile(fileobj=compressed_file)\n",
    "\n",
    "with open(Path(os.getcwd(), 'miRNA.xlsx'), 'wb') as outfile:\n",
    "    outfile.write(decompressed_file.read())\n",
    "\n",
    "mir_database = pd.read_excel('miRNA.xlsx')\n",
    "\n",
    "mir_database_1 = mir_database.loc[:, ['Accession', 'ID']]\n",
    "mir_database_2 = mir_database.loc[:, ['Mature1_Acc', 'Mature1_ID']].rename(columns = {'Mature1_Acc':'Accession', 'Mature1_ID':'ID'})\n",
    "mir_database_3 = mir_database.loc[:, ['Mature2_Acc', 'Mature2_ID']].rename(columns = {'Mature2_Acc':'Accession', 'Mature2_ID':'ID'})\n",
    "\n",
    "final_database = pd.concat([mir_database_1, mir_database_2, mir_database_3])"
   ]
  },
  {
   "cell_type": "code",
   "execution_count": 3,
   "metadata": {},
   "outputs": [],
   "source": [
    "def fetch_abstract(pmid):\n",
    "    handle = Entrez.efetch(db='pubmed', id = pmid, retmode='xml')\n",
    "    article = Entrez.read(handle)['PubmedArticle'][0]['MedlineCitation']['Article']\n",
    "    if 'Abstract' in article:\n",
    "            return article['Abstract']['AbstractText']\n",
    "        \n",
    "def concat_article(x):\n",
    "    final_article = str()\n",
    "    for i in range(len(x)):\n",
    "        final_article = final_article + str(x[i]) + ' '\n",
    "    return final_article"
   ]
  },
  {
   "cell_type": "code",
   "execution_count": 4,
   "metadata": {},
   "outputs": [],
   "source": [
    "def get_literature(user_mir):\n",
    "    \n",
    "    filtered_database = final_database[final_database['Accession']  == user_mir]['ID']\n",
    "    filtered_database = final_database[final_database['Accession']  == user_mir]['ID']\n",
    "\n",
    "    if filtered_database.size == 1:\n",
    "        mir = filtered_database.iloc[0]\n",
    "        print('The accession number ' + user_mir + ' corresponds to miR ' + mir)\n",
    "    else:\n",
    "        print('miR accession is incorrect. Try again (caps sensitive)')\n",
    "\n",
    "    Entrez.email = 'anonymous@gmail.com'\n",
    "    esearch_query = Entrez.esearch(db=\"pubmed\", term=\"mir-100\", retmode=\"xml\")\n",
    "    esearch_result = Entrez.read(esearch_query)\n",
    "    pmid_list = esearch_result['IdList']\n",
    "    print(\"pmid's obtained: \" + str(len(pmid_list)))\n",
    "    \n",
    "    abs_list = []\n",
    "\n",
    "    for i in pmid_list:\n",
    "        abs = fetch_abstract(i)\n",
    "        abs_list.append(abs)\n",
    "        \n",
    "    abs_list = [concat_article(i) for i in abs_list if i is not None]\n",
    "    \n",
    "    return(abs_list)"
   ]
  },
  {
   "cell_type": "code",
   "execution_count": 26,
   "metadata": {},
   "outputs": [],
   "source": [
    "training_mir = ['MI0000692', 'MI0000159', 'MI0000172', 'MI0000406', 'MI0000111']"
   ]
  },
  {
   "cell_type": "code",
   "execution_count": 27,
   "metadata": {},
   "outputs": [
    {
     "name": "stdout",
     "output_type": "stream",
     "text": [
      "The accession number MI0000692 corresponds to miR mmu-mir-100\n",
      "pmid's obtained: 20\n",
      "The accession number MI0000159 corresponds to miR mmu-mir-133a-1\n",
      "pmid's obtained: 20\n",
      "The accession number MI0000172 corresponds to miR mmu-mir-150\n",
      "pmid's obtained: 20\n",
      "The accession number MI0000406 corresponds to miR mmu-mir-106a\n",
      "pmid's obtained: 20\n",
      "The accession number MI0000111 corresponds to miR hsa-mir-105-1\n",
      "pmid's obtained: 20\n"
     ]
    }
   ],
   "source": [
    "all_abstracts = []\n",
    "\n",
    "for i in training_mir:\n",
    "    abstracts = get_literature(i)\n",
    "    all_abstracts = all_abstracts + abstracts"
   ]
  },
  {
   "cell_type": "code",
   "execution_count": 28,
   "metadata": {},
   "outputs": [],
   "source": [
    "from nltk.tokenize import word_tokenize, sent_tokenize\n",
    "\n",
    "all_sentences = []\n",
    "\n",
    "for mir_abs in all_abstracts:\n",
    "    abstr_sentences = sent_tokenize(mir_abs)\n",
    "    all_sentences = all_sentences + abstr_sentences\n"
   ]
  },
  {
   "cell_type": "code",
   "execution_count": 29,
   "metadata": {},
   "outputs": [],
   "source": [
    "all_sentences[10]"
   ]
  },
  {
   "cell_type": "code",
   "execution_count": 29,
   "metadata": {},
   "outputs": [
    {
     "data": {
      "text/plain": [
       "1065"
      ]
     },
     "execution_count": 29,
     "metadata": {},
     "output_type": "execute_result"
    }
   ],
   "source": [
    "len(all_sentences)"
   ]
  },
  {
   "cell_type": "code",
   "execution_count": 37,
   "metadata": {},
   "outputs": [],
   "source": [
    "def make_training_data(string, pattern):\n",
    "    counter = string.lower().find(pattern.lower())\n",
    "    end_miR = len(string)\n",
    "    \n",
    "    while counter + 1 < len(string):\n",
    "        counter += 1 \n",
    "        if string[counter] in \".,!? :;\":\n",
    "            end_miR = counter\n",
    "            counter = len(string)\n",
    "            \n",
    "    extracted_string = string[string.lower().find(pattern.lower()):end_miR]\n",
    "    \n",
    "    if string.lower().find(pattern.lower()) == -1 or not any(i.isdigit() for i in extracted_string):\n",
    "        return((string, {'entities': []}))\n",
    "    else:\n",
    "        return((string, {'entities': [(string.lower().find(pattern.lower()), end_miR, 'miR')]}))\n"
   ]
  },
  {
   "cell_type": "code",
   "execution_count": 38,
   "metadata": {},
   "outputs": [],
   "source": [
    "def check_training_data(string, pattern):\n",
    "    counter = string.lower().find(pattern.lower())\n",
    "    end_miR = len(string)\n",
    "    \n",
    "    while counter + 1 < len(string):\n",
    "        counter += 1 \n",
    "        if string[counter] in \".,!? :;\":\n",
    "            end_miR = counter\n",
    "            counter = len(string)\n",
    "           \n",
    "    extracted_string = string[string.lower().find(pattern.lower()):end_miR]    \n",
    "        \n",
    "    if string.lower().find(pattern.lower()) == -1 or not any(i.isdigit() for i in extracted_string):\n",
    "        return('')\n",
    "    else:\n",
    "        return(extracted_string)"
   ]
  },
  {
   "cell_type": "code",
   "execution_count": 32,
   "metadata": {},
   "outputs": [
    {
     "data": {
      "text/plain": [
       "['MicroRNAs play critical roles in regulating target gene expression and multiple cellular processes in human cancer malignant progression.',\n",
       " 'However, the function of miR-194 in gastric cancer (GC) remains unclear and controversial.',\n",
       " 'In this study, we identified a series of miRNAs that can serve as prognostic biomarkers for GC by analysis of miRNA expression using TCGA (The Cancer Genome Atlas) data.',\n",
       " 'Among them, miR-100, miR-125b, miR-199a and miR-194 were the 4 most promising prognostic biomarkers in GC due to their significant associations with various clinical characteristics of patients.',\n",
       " 'MiR-100, miR-125b and miR-199a predicted poor prognosis in GC, while miR-194 predicted favorable prognosis in GC.']"
      ]
     },
     "execution_count": 32,
     "metadata": {},
     "output_type": "execute_result"
    }
   ],
   "source": [
    "all_sentences[0:5]"
   ]
  },
  {
   "cell_type": "code",
   "execution_count": 39,
   "metadata": {},
   "outputs": [
    {
     "name": "stdout",
     "output_type": "stream",
     "text": [
      "[('MicroRNAs play critical roles in regulating target gene expression and multiple cellular processes in human cancer malignant progression.', {'entities': []}), ('However, the function of miR-194 in gastric cancer (GC) remains unclear and controversial.', {'entities': [(25, 32, 'miR')]}), ('In this study, we identified a series of miRNAs that can serve as prognostic biomarkers for GC by analysis of miRNA expression using TCGA (The Cancer Genome Atlas) data.', {'entities': []}), ('Among them, miR-100, miR-125b, miR-199a and miR-194 were the 4 most promising prognostic biomarkers in GC due to their significant associations with various clinical characteristics of patients.', {'entities': [(12, 19, 'miR')]}), ('MiR-100, miR-125b and miR-199a predicted poor prognosis in GC, while miR-194 predicted favorable prognosis in GC.', {'entities': [(0, 7, 'miR')]})]\n",
      "\n",
      "['', 'miR-194', '', 'miR-100', 'MiR-100']\n"
     ]
    }
   ],
   "source": [
    "print([make_training_data(i, 'miR') for i in all_sentences[0:5]])\n",
    "print()\n",
    "print([check_training_data(i, 'miR') for i in all_sentences[0:5]])"
   ]
  },
  {
   "cell_type": "code",
   "execution_count": 40,
   "metadata": {},
   "outputs": [],
   "source": [
    "training_data = [make_training_data(i, 'miR') for i in all_sentences]"
   ]
  },
  {
   "cell_type": "code",
   "execution_count": 43,
   "metadata": {},
   "outputs": [
    {
     "data": {
      "text/plain": [
       "('However, the function of miR-194 in gastric cancer (GC) remains unclear and controversial.',\n",
       " {'entities': [(25, 32, 'miR')]})"
      ]
     },
     "execution_count": 43,
     "metadata": {},
     "output_type": "execute_result"
    }
   ],
   "source": [
    "training_data[1]"
   ]
  },
  {
   "cell_type": "code",
   "execution_count": 49,
   "metadata": {},
   "outputs": [],
   "source": [
    "import spacy\n",
    "import random"
   ]
  },
  {
   "cell_type": "code",
   "execution_count": 63,
   "metadata": {},
   "outputs": [
    {
     "name": "stdout",
     "output_type": "stream",
     "text": [
      "Collecting en-core-web-sm==3.0.0 from https://github.com/explosion/spacy-models/releases/download/en_core_web_sm-3.0.0/en_core_web_sm-3.0.0-py3-none-any.whl#egg=en_core_web_sm==3.0.0\n",
      "\u001b[?25l  Downloading https://github.com/explosion/spacy-models/releases/download/en_core_web_sm-3.0.0/en_core_web_sm-3.0.0-py3-none-any.whl (13.7MB)\n",
      "\u001b[K     |████████████████████████████████| 13.7MB 4.4MB/s eta 0:00:01\n",
      "\u001b[?25hRequirement already satisfied: spacy<3.1.0,>=3.0.0 in /home/shane/anaconda3/lib/python3.7/site-packages (from en-core-web-sm==3.0.0) (3.0.3)\n",
      "Requirement already satisfied: jinja2 in /home/shane/anaconda3/lib/python3.7/site-packages (from spacy<3.1.0,>=3.0.0->en-core-web-sm==3.0.0) (2.10.3)\n",
      "Requirement already satisfied: blis<0.8.0,>=0.4.0 in /home/shane/anaconda3/lib/python3.7/site-packages (from spacy<3.1.0,>=3.0.0->en-core-web-sm==3.0.0) (0.7.4)\n",
      "Requirement already satisfied: tqdm<5.0.0,>=4.38.0 in /home/shane/anaconda3/lib/python3.7/site-packages (from spacy<3.1.0,>=3.0.0->en-core-web-sm==3.0.0) (4.59.0)\n",
      "Requirement already satisfied: cymem<2.1.0,>=2.0.2 in /home/shane/anaconda3/lib/python3.7/site-packages (from spacy<3.1.0,>=3.0.0->en-core-web-sm==3.0.0) (2.0.5)\n",
      "Requirement already satisfied: pathy in /home/shane/anaconda3/lib/python3.7/site-packages (from spacy<3.1.0,>=3.0.0->en-core-web-sm==3.0.0) (0.4.0)\n",
      "Requirement already satisfied: numpy>=1.15.0 in /home/shane/anaconda3/lib/python3.7/site-packages (from spacy<3.1.0,>=3.0.0->en-core-web-sm==3.0.0) (1.20.1)\n",
      "Requirement already satisfied: thinc<8.1.0,>=8.0.0 in /home/shane/anaconda3/lib/python3.7/site-packages (from spacy<3.1.0,>=3.0.0->en-core-web-sm==3.0.0) (8.0.1)\n",
      "Requirement already satisfied: setuptools in /home/shane/anaconda3/lib/python3.7/site-packages (from spacy<3.1.0,>=3.0.0->en-core-web-sm==3.0.0) (41.4.0)\n",
      "Requirement already satisfied: importlib-metadata>=0.20; python_version < \"3.8\" in /home/shane/anaconda3/lib/python3.7/site-packages (from spacy<3.1.0,>=3.0.0->en-core-web-sm==3.0.0) (0.23)\n",
      "Requirement already satisfied: pydantic<1.8.0,>=1.7.1 in /home/shane/anaconda3/lib/python3.7/site-packages (from spacy<3.1.0,>=3.0.0->en-core-web-sm==3.0.0) (1.7.3)\n",
      "Requirement already satisfied: requests<3.0.0,>=2.13.0 in /home/shane/anaconda3/lib/python3.7/site-packages (from spacy<3.1.0,>=3.0.0->en-core-web-sm==3.0.0) (2.22.0)\n",
      "Requirement already satisfied: preshed<3.1.0,>=3.0.2 in /home/shane/anaconda3/lib/python3.7/site-packages (from spacy<3.1.0,>=3.0.0->en-core-web-sm==3.0.0) (3.0.5)\n",
      "Requirement already satisfied: srsly<3.0.0,>=2.4.0 in /home/shane/anaconda3/lib/python3.7/site-packages (from spacy<3.1.0,>=3.0.0->en-core-web-sm==3.0.0) (2.4.0)\n",
      "Requirement already satisfied: wasabi<1.1.0,>=0.8.1 in /home/shane/anaconda3/lib/python3.7/site-packages (from spacy<3.1.0,>=3.0.0->en-core-web-sm==3.0.0) (0.8.2)\n",
      "Requirement already satisfied: packaging>=20.0 in /home/shane/anaconda3/lib/python3.7/site-packages (from spacy<3.1.0,>=3.0.0->en-core-web-sm==3.0.0) (20.9)\n",
      "Requirement already satisfied: typer<0.4.0,>=0.3.0 in /home/shane/anaconda3/lib/python3.7/site-packages (from spacy<3.1.0,>=3.0.0->en-core-web-sm==3.0.0) (0.3.2)\n",
      "Requirement already satisfied: murmurhash<1.1.0,>=0.28.0 in /home/shane/anaconda3/lib/python3.7/site-packages (from spacy<3.1.0,>=3.0.0->en-core-web-sm==3.0.0) (1.0.5)\n",
      "Requirement already satisfied: catalogue<2.1.0,>=2.0.1 in /home/shane/anaconda3/lib/python3.7/site-packages (from spacy<3.1.0,>=3.0.0->en-core-web-sm==3.0.0) (2.0.1)\n",
      "Requirement already satisfied: typing-extensions>=3.7.4; python_version < \"3.8\" in /home/shane/anaconda3/lib/python3.7/site-packages (from spacy<3.1.0,>=3.0.0->en-core-web-sm==3.0.0) (3.7.4.3)\n",
      "Requirement already satisfied: spacy-legacy<3.1.0,>=3.0.0 in /home/shane/anaconda3/lib/python3.7/site-packages (from spacy<3.1.0,>=3.0.0->en-core-web-sm==3.0.0) (3.0.1)\n",
      "Requirement already satisfied: MarkupSafe>=0.23 in /home/shane/anaconda3/lib/python3.7/site-packages (from jinja2->spacy<3.1.0,>=3.0.0->en-core-web-sm==3.0.0) (1.1.1)\n",
      "Requirement already satisfied: smart-open<4.0.0,>=2.2.0 in /home/shane/anaconda3/lib/python3.7/site-packages (from pathy->spacy<3.1.0,>=3.0.0->en-core-web-sm==3.0.0) (3.0.0)\n",
      "Requirement already satisfied: zipp>=0.5 in /home/shane/anaconda3/lib/python3.7/site-packages (from importlib-metadata>=0.20; python_version < \"3.8\"->spacy<3.1.0,>=3.0.0->en-core-web-sm==3.0.0) (0.6.0)\n",
      "Requirement already satisfied: certifi>=2017.4.17 in /home/shane/anaconda3/lib/python3.7/site-packages (from requests<3.0.0,>=2.13.0->spacy<3.1.0,>=3.0.0->en-core-web-sm==3.0.0) (2019.9.11)\n",
      "Requirement already satisfied: urllib3!=1.25.0,!=1.25.1,<1.26,>=1.21.1 in /home/shane/anaconda3/lib/python3.7/site-packages (from requests<3.0.0,>=2.13.0->spacy<3.1.0,>=3.0.0->en-core-web-sm==3.0.0) (1.24.2)\n",
      "Requirement already satisfied: idna<2.9,>=2.5 in /home/shane/anaconda3/lib/python3.7/site-packages (from requests<3.0.0,>=2.13.0->spacy<3.1.0,>=3.0.0->en-core-web-sm==3.0.0) (2.8)\n",
      "Requirement already satisfied: chardet<3.1.0,>=3.0.2 in /home/shane/anaconda3/lib/python3.7/site-packages (from requests<3.0.0,>=2.13.0->spacy<3.1.0,>=3.0.0->en-core-web-sm==3.0.0) (3.0.4)\n",
      "Requirement already satisfied: pyparsing>=2.0.2 in /home/shane/anaconda3/lib/python3.7/site-packages (from packaging>=20.0->spacy<3.1.0,>=3.0.0->en-core-web-sm==3.0.0) (2.4.2)\n",
      "Requirement already satisfied: click<7.2.0,>=7.1.1 in /home/shane/anaconda3/lib/python3.7/site-packages (from typer<0.4.0,>=0.3.0->spacy<3.1.0,>=3.0.0->en-core-web-sm==3.0.0) (7.1.2)\n",
      "Requirement already satisfied: more-itertools in /home/shane/anaconda3/lib/python3.7/site-packages (from zipp>=0.5->importlib-metadata>=0.20; python_version < \"3.8\"->spacy<3.1.0,>=3.0.0->en-core-web-sm==3.0.0) (7.2.0)\n",
      "Installing collected packages: en-core-web-sm\n",
      "Successfully installed en-core-web-sm-3.0.0\n",
      "\u001b[38;5;2m✔ Download and installation successful\u001b[0m\n",
      "You can now load the package via spacy.load('en_core_web_sm')\n"
     ]
    }
   ],
   "source": [
    "!python -m spacy download en_core_web_sm"
   ]
  },
  {
   "cell_type": "code",
   "execution_count": 64,
   "metadata": {},
   "outputs": [],
   "source": [
    "nlp=spacy.load('en_core_web_sm')\n",
    "\n",
    "# Getting the pipeline component\n",
    "ner=nlp.get_pipe(\"ner\")"
   ]
  },
  {
   "cell_type": "code",
   "execution_count": 67,
   "metadata": {},
   "outputs": [],
   "source": [
    "for _, annotations in training_data:\n",
    "  for ent in annotations.get(\"entities\"):\n",
    "    ner.add_label(ent[2])\n",
    "    \n",
    "pipe_exceptions = [\"ner\", \"trf_wordpiecer\", \"trf_tok2vec\"]\n",
    "unaffected_pipes = [pipe for pipe in nlp.pipe_names if pipe not in pipe_exceptions]"
   ]
  },
  {
   "cell_type": "code",
   "execution_count": 68,
   "metadata": {},
   "outputs": [
    {
     "ename": "ValueError",
     "evalue": "[E989] `nlp.update()` was called with two positional arguments. This may be due to a backwards-incompatible change to the format of the training data in spaCy 3.0 onwards. The 'update' function should now be called with a batch of Example objects, instead of `(text, annotation)` tuples. ",
     "output_type": "error",
     "traceback": [
      "\u001b[0;31m---------------------------------------------------------------------------\u001b[0m",
      "\u001b[0;31mValueError\u001b[0m                                Traceback (most recent call last)",
      "\u001b[0;32m<ipython-input-68-cfbdb9b55453>\u001b[0m in \u001b[0;36m<module>\u001b[0;34m\u001b[0m\n\u001b[1;32m     20\u001b[0m                     \u001b[0mannotations\u001b[0m\u001b[0;34m,\u001b[0m  \u001b[0;31m# batch of annotations\u001b[0m\u001b[0;34m\u001b[0m\u001b[0;34m\u001b[0m\u001b[0m\n\u001b[1;32m     21\u001b[0m                     \u001b[0mdrop\u001b[0m\u001b[0;34m=\u001b[0m\u001b[0;36m0.5\u001b[0m\u001b[0;34m,\u001b[0m  \u001b[0;31m# dropout - make it harder to memorise data\u001b[0m\u001b[0;34m\u001b[0m\u001b[0;34m\u001b[0m\u001b[0m\n\u001b[0;32m---> 22\u001b[0;31m                     \u001b[0mlosses\u001b[0m\u001b[0;34m=\u001b[0m\u001b[0mlosses\u001b[0m\u001b[0;34m,\u001b[0m\u001b[0;34m\u001b[0m\u001b[0;34m\u001b[0m\u001b[0m\n\u001b[0m\u001b[1;32m     23\u001b[0m                 )\n\u001b[1;32m     24\u001b[0m         \u001b[0mprint\u001b[0m\u001b[0;34m(\u001b[0m\u001b[0;34m\"Losses\"\u001b[0m\u001b[0;34m,\u001b[0m \u001b[0mlosses\u001b[0m\u001b[0;34m)\u001b[0m\u001b[0;34m\u001b[0m\u001b[0;34m\u001b[0m\u001b[0m\n",
      "\u001b[0;32m~/anaconda3/lib/python3.7/site-packages/spacy/language.py\u001b[0m in \u001b[0;36mupdate\u001b[0;34m(self, examples, _, drop, sgd, losses, component_cfg, exclude)\u001b[0m\n\u001b[1;32m   1085\u001b[0m         \"\"\"\n\u001b[1;32m   1086\u001b[0m         \u001b[0;32mif\u001b[0m \u001b[0m_\u001b[0m \u001b[0;32mis\u001b[0m \u001b[0;32mnot\u001b[0m \u001b[0;32mNone\u001b[0m\u001b[0;34m:\u001b[0m\u001b[0;34m\u001b[0m\u001b[0;34m\u001b[0m\u001b[0m\n\u001b[0;32m-> 1087\u001b[0;31m             \u001b[0;32mraise\u001b[0m \u001b[0mValueError\u001b[0m\u001b[0;34m(\u001b[0m\u001b[0mErrors\u001b[0m\u001b[0;34m.\u001b[0m\u001b[0mE989\u001b[0m\u001b[0;34m)\u001b[0m\u001b[0;34m\u001b[0m\u001b[0;34m\u001b[0m\u001b[0m\n\u001b[0m\u001b[1;32m   1088\u001b[0m         \u001b[0;32mif\u001b[0m \u001b[0mlosses\u001b[0m \u001b[0;32mis\u001b[0m \u001b[0;32mNone\u001b[0m\u001b[0;34m:\u001b[0m\u001b[0;34m\u001b[0m\u001b[0;34m\u001b[0m\u001b[0m\n\u001b[1;32m   1089\u001b[0m             \u001b[0mlosses\u001b[0m \u001b[0;34m=\u001b[0m \u001b[0;34m{\u001b[0m\u001b[0;34m}\u001b[0m\u001b[0;34m\u001b[0m\u001b[0;34m\u001b[0m\u001b[0m\n",
      "\u001b[0;31mValueError\u001b[0m: [E989] `nlp.update()` was called with two positional arguments. This may be due to a backwards-incompatible change to the format of the training data in spaCy 3.0 onwards. The 'update' function should now be called with a batch of Example objects, instead of `(text, annotation)` tuples. "
     ]
    }
   ],
   "source": [
    "import random\n",
    "from spacy.util import minibatch, compounding\n",
    "from pathlib import Path\n",
    "\n",
    "# TRAINING THE MODEL\n",
    "with nlp.disable_pipes(*unaffected_pipes):\n",
    "\n",
    "  # Training for 10 iterations\n",
    "  for iteration in range(100):\n",
    "\n",
    "    # shuufling examples  before every iteration\n",
    "    random.shuffle(training_data)\n",
    "    losses = {}\n",
    "    # batch up the examples using spaCy's minibatch\n",
    "    batches = minibatch(training_data, size=compounding(4.0, 32.0, 1.001))\n",
    "    for batch in batches:\n",
    "        texts, annotations = zip(*batch)\n",
    "        nlp.update(\n",
    "                    texts,  # batch of texts\n",
    "                    annotations,  # batch of annotations\n",
    "                    drop=0.5,  # dropout - make it harder to memorise data\n",
    "                    losses=losses,\n",
    "                )\n",
    "        print(\"Losses\", losses)"
   ]
  },
  {
   "cell_type": "code",
   "execution_count": 52,
   "metadata": {},
   "outputs": [],
   "source": [
    "test_miR = ['MI0000684']"
   ]
  },
  {
   "cell_type": "code",
   "execution_count": 57,
   "metadata": {},
   "outputs": [
    {
     "name": "stdout",
     "output_type": "stream",
     "text": [
      "The accession number MI0000684 corresponds to miR mmu-mir-107\n",
      "pmid's obtained: 20\n"
     ]
    }
   ],
   "source": [
    "all_test_abstracts = []\n",
    "\n",
    "for i in test_miR:\n",
    "    abstracts = get_literature(i)\n",
    "    all_test_abstracts = all_test_abstracts + abstracts\n",
    "\n",
    "all_test_sentences = []\n",
    "\n",
    "for mir_abs in all_test_abstracts:\n",
    "    abstr_sentences = sent_tokenize(mir_abs)\n",
    "    all_test_sentences = all_test_sentences + abstr_sentences"
   ]
  },
  {
   "cell_type": "code",
   "execution_count": 58,
   "metadata": {},
   "outputs": [
    {
     "data": {
      "text/plain": [
       "['MicroRNAs play critical roles in regulating target gene expression and multiple cellular processes in human cancer malignant progression.',\n",
       " 'However, the function of miR-194 in gastric cancer (GC) remains unclear and controversial.',\n",
       " 'In this study, we identified a series of miRNAs that can serve as prognostic biomarkers for GC by analysis of miRNA expression using TCGA (The Cancer Genome Atlas) data.',\n",
       " 'Among them, miR-100, miR-125b, miR-199a and miR-194 were the 4 most promising prognostic biomarkers in GC due to their significant associations with various clinical characteristics of patients.',\n",
       " 'MiR-100, miR-125b and miR-199a predicted poor prognosis in GC, while miR-194 predicted favorable prognosis in GC.',\n",
       " 'We also provide\\xa0the\\xa0first\\xa0comprehensive transcriptome analysis of miR-194 in GC.',\n",
       " \"Our data suggest that miR-194 tends to regulated target genes by binding to their 3' untranslated regions in a 7-mer-A1, 7-mer-m8 or 8-mer manner.\",\n",
       " 'KEGG pathway analysis showed that the cell cycle was one of the pathways most affected by miR-194 in GC.',\n",
       " 'Moreover, CCND1 was shown to be a novel target gene of miR-194 in GC.',\n",
       " 'Additionally, downregulation of CCND1 by miR-194 in GC further led to cell growth inhibition and cell cycle arrest.']"
      ]
     },
     "execution_count": 58,
     "metadata": {},
     "output_type": "execute_result"
    }
   ],
   "source": [
    "all_test_sentences[0:5]"
   ]
  },
  {
   "cell_type": "code",
   "execution_count": 60,
   "metadata": {},
   "outputs": [
    {
     "name": "stdout",
     "output_type": "stream",
     "text": [
      "MicroRNAs play critical roles in regulating target gene expression and multiple cellular processes in human cancer malignant progression.\n",
      "() \n",
      "\n",
      "However, the function of miR-194 in gastric cancer (GC) remains unclear and controversial.\n",
      "() \n",
      "\n",
      "In this study, we identified a series of miRNAs that can serve as prognostic biomarkers for GC by analysis of miRNA expression using TCGA (The Cancer Genome Atlas) data.\n",
      "() \n",
      "\n",
      "Among them, miR-100, miR-125b, miR-199a and miR-194 were the 4 most promising prognostic biomarkers in GC due to their significant associations with various clinical characteristics of patients.\n",
      "() \n",
      "\n",
      "MiR-100, miR-125b and miR-199a predicted poor prognosis in GC, while miR-194 predicted favorable prognosis in GC.\n",
      "() \n",
      "\n"
     ]
    }
   ],
   "source": [
    "for doc in nlp.pipe(all_test_sentences[0:5]):\n",
    "    # Print the document text and entitites\n",
    "    print(doc.text)\n",
    "    print(doc.ents, '\\n')"
   ]
  },
  {
   "cell_type": "code",
   "execution_count": null,
   "metadata": {},
   "outputs": [],
   "source": [
    "from spacy.lang.en import English\n",
    "nlp = English()"
   ]
  }
 ],
 "metadata": {
  "kernelspec": {
   "display_name": "Python 3",
   "language": "python",
   "name": "python3"
  },
  "language_info": {
   "codemirror_mode": {
    "name": "ipython",
    "version": 3
   },
   "file_extension": ".py",
   "mimetype": "text/x-python",
   "name": "python",
   "nbconvert_exporter": "python",
   "pygments_lexer": "ipython3",
   "version": "3.7.4"
  }
 },
 "nbformat": 4,
 "nbformat_minor": 4
}
