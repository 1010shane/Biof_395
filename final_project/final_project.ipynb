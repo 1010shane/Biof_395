{
 "cells": [
  {
   "cell_type": "markdown",
   "metadata": {},
   "source": [
    "# **Biof395 Final Project**\n",
    "Shane Chambers"
   ]
  },
  {
   "cell_type": "markdown",
   "metadata": {},
   "source": [
    "## **Overview and Description**\n",
    "\n",
    "The goal of this project is to make a dynamic application that will summarize the literature findings surrounding a miRNA that the user inputs into the program. This will require the program to:\n",
    "- Receive user input\n",
    "- Query and download the relevant literature \n",
    "- process the literature \n",
    "- Transform the literature into feature representations\n",
    "- Build a text mining model\n",
    "- Evaluate the performance of the model\n",
    "\n",
    "We will work through each aspect of this process below."
   ]
  },
  {
   "cell_type": "markdown",
   "metadata": {},
   "source": [
    "## **Receive User Input**\n",
    "\n",
    "First, we will prompt the user to enter the [miRBase](http://www.mirbase.org/) accession of their miRNA of interest. This is a unique code associated with every known miRNA that standardizes the nomenclature to avoid confusion."
   ]
  },
  {
   "cell_type": "code",
   "execution_count": 1,
   "metadata": {},
   "outputs": [],
   "source": [
    "#user_mir = input('Enter the miRbase accession number of your miR of interest:')\n",
    "\n",
    "# For this example, we will enter the accession of mmu-mir-100; MI0000692\n",
    "\n",
    "user_mir = 'MI0000692'"
   ]
  },
  {
   "cell_type": "markdown",
   "metadata": {},
   "source": [
    "Now, we will reference this to a database downloaded from the miRbase FTP site [containing every known miR and its accession number.](ftp://mirbase.org/pub/mirbase/CURRENT/miRNA.xls.gz) This file has been unzipped and downloaded, and is saved in this folder as `miRNA.xlsx`. Below, we will import and manipulate it using `pandas` so that the `user_mir` can be queried against it. "
   ]
  },
  {
   "cell_type": "code",
   "execution_count": 2,
   "metadata": {},
   "outputs": [],
   "source": [
    "import urllib.request\n",
    "import io\n",
    "import gzip\n",
    "import os\n",
    "from pathlib import Path\n",
    "\n",
    "response = urllib.request.urlopen('ftp://mirbase.org/pub/mirbase/CURRENT/miRNA.xls.gz')\n",
    "compressed_file = io.BytesIO(response.read())\n",
    "decompressed_file = gzip.GzipFile(fileobj=compressed_file)\n",
    "\n",
    "with open(Path(os.getcwd(), 'miRNA.xlsx'), 'wb') as outfile:\n",
    "    outfile.write(decompressed_file.read())"
   ]
  },
  {
   "cell_type": "code",
   "execution_count": 3,
   "metadata": {},
   "outputs": [
    {
     "data": {
      "text/html": [
       "<div>\n",
       "<style scoped>\n",
       "    .dataframe tbody tr th:only-of-type {\n",
       "        vertical-align: middle;\n",
       "    }\n",
       "\n",
       "    .dataframe tbody tr th {\n",
       "        vertical-align: top;\n",
       "    }\n",
       "\n",
       "    .dataframe thead th {\n",
       "        text-align: right;\n",
       "    }\n",
       "</style>\n",
       "<table border=\"1\" class=\"dataframe\">\n",
       "  <thead>\n",
       "    <tr style=\"text-align: right;\">\n",
       "      <th></th>\n",
       "      <th>Accession</th>\n",
       "      <th>ID</th>\n",
       "    </tr>\n",
       "  </thead>\n",
       "  <tbody>\n",
       "    <tr>\n",
       "      <td>0</td>\n",
       "      <td>MI0000001</td>\n",
       "      <td>cel-let-7</td>\n",
       "    </tr>\n",
       "    <tr>\n",
       "      <td>1</td>\n",
       "      <td>MI0000002</td>\n",
       "      <td>cel-lin-4</td>\n",
       "    </tr>\n",
       "    <tr>\n",
       "      <td>2</td>\n",
       "      <td>MI0000003</td>\n",
       "      <td>cel-mir-1</td>\n",
       "    </tr>\n",
       "    <tr>\n",
       "      <td>3</td>\n",
       "      <td>MI0000004</td>\n",
       "      <td>cel-mir-2</td>\n",
       "    </tr>\n",
       "    <tr>\n",
       "      <td>4</td>\n",
       "      <td>MI0000005</td>\n",
       "      <td>cel-mir-34</td>\n",
       "    </tr>\n",
       "  </tbody>\n",
       "</table>\n",
       "</div>"
      ],
      "text/plain": [
       "   Accession          ID\n",
       "0  MI0000001   cel-let-7\n",
       "1  MI0000002   cel-lin-4\n",
       "2  MI0000003   cel-mir-1\n",
       "3  MI0000004   cel-mir-2\n",
       "4  MI0000005  cel-mir-34"
      ]
     },
     "execution_count": 3,
     "metadata": {},
     "output_type": "execute_result"
    }
   ],
   "source": [
    "import pandas as pd\n",
    "\n",
    "mir_database = pd.read_excel('miRNA.xlsx')\n",
    "\n",
    "mir_database_1 = mir_database.loc[:, ['Accession', 'ID']]\n",
    "mir_database_2 = mir_database.loc[:, ['Mature1_Acc', 'Mature1_ID']].rename(columns = {'Mature1_Acc':'Accession', 'Mature1_ID':'ID'})\n",
    "mir_database_3 = mir_database.loc[:, ['Mature2_Acc', 'Mature2_ID']].rename(columns = {'Mature2_Acc':'Accession', 'Mature2_ID':'ID'})\n",
    "\n",
    "final_database = pd.concat([mir_database_1, mir_database_2, mir_database_3])\n",
    "\n",
    "final_database.head()"
   ]
  },
  {
   "cell_type": "markdown",
   "metadata": {},
   "source": [
    "Now, we need to query the `user_mir` against this database and store the corresponding `ID` as the item we will search in pubmed. We will also check that there is an `ID` that corresponds with the given accession number. "
   ]
  },
  {
   "cell_type": "code",
   "execution_count": 4,
   "metadata": {},
   "outputs": [
    {
     "name": "stdout",
     "output_type": "stream",
     "text": [
      "The accession number MI0000692 corresponds to miR mmu-mir-100\n"
     ]
    }
   ],
   "source": [
    "filtered_database = final_database[final_database['Accession']  == user_mir]['ID']\n",
    "\n",
    "if filtered_database.size == 1:\n",
    "    mir = filtered_database.iloc[0]\n",
    "    print('The accession number ' + user_mir + ' corresponds to miR ' + mir)\n",
    "else:\n",
    "    print('miR accession is incorrect. Try again (caps sensitive)')"
   ]
  },
  {
   "cell_type": "markdown",
   "metadata": {},
   "source": [
    "## **Obtaining Relevant Literature**\n",
    "\n",
    "Using the corresponding miR, we will query pubmed and get relevant abstracts. "
   ]
  },
  {
   "cell_type": "code",
   "execution_count": 5,
   "metadata": {},
   "outputs": [],
   "source": [
    "try:\n",
    "  from Bio import Entrez\n",
    "except ModuleNotFoundError:\n",
    "  !pip install Bio\n",
    "  from Bio import Entrez\n",
    "\n",
    "Entrez.email = 'anonymous@gmail.com'\n",
    "esearch_query = Entrez.esearch(db=\"pubmed\", term=\"mir-100\", retmode=\"xml\")\n",
    "esearch_result = Entrez.read(esearch_query)\n",
    "pmid_list = esearch_result['IdList']"
   ]
  },
  {
   "cell_type": "markdown",
   "metadata": {},
   "source": [
    "This fetches the pubmed ID's of literature that corresponds to our search, which we can preview below:"
   ]
  },
  {
   "cell_type": "code",
   "execution_count": 6,
   "metadata": {},
   "outputs": [
    {
     "name": "stdout",
     "output_type": "stream",
     "text": [
      "pmid's obtained: 20\n",
      "Example pmid: 33605558\n"
     ]
    }
   ],
   "source": [
    "print(\"pmid's obtained: \" + str(len(pmid_list)))\n",
    "\n",
    "print(\"Example pmid: \" + str(pmid_list[0]))"
   ]
  },
  {
   "cell_type": "markdown",
   "metadata": {},
   "source": [
    "Now, we will create a function to fetch the abstract given the pmid:"
   ]
  },
  {
   "cell_type": "code",
   "execution_count": 7,
   "metadata": {},
   "outputs": [],
   "source": [
    "def fetch_abstract(pmid):\n",
    "    handle = Entrez.efetch(db='pubmed', id = pmid, retmode='xml')\n",
    "    article = Entrez.read(handle)['PubmedArticle'][0]['MedlineCitation']['Article']\n",
    "    if 'Abstract' in article:\n",
    "            return article['Abstract']['AbstractText']"
   ]
  },
  {
   "cell_type": "markdown",
   "metadata": {},
   "source": [
    "And now, we can iterate through the PMID's and download each corresponding abstract:"
   ]
  },
  {
   "cell_type": "code",
   "execution_count": 8,
   "metadata": {},
   "outputs": [],
   "source": [
    "abs_list = []\n",
    "\n",
    "for i in pmid_list:\n",
    "    abs = fetch_abstract(i)\n",
    "    abs_list.append(abs)"
   ]
  },
  {
   "cell_type": "markdown",
   "metadata": {},
   "source": [
    "Now, let's look at some of the abstracts we downloaded and see if any further processing is needed:"
   ]
  },
  {
   "cell_type": "code",
   "execution_count": 9,
   "metadata": {},
   "outputs": [
    {
     "name": "stdout",
     "output_type": "stream",
     "text": [
      "[\"MicroRNAs play critical roles in regulating target gene expression and multiple cellular processes in human cancer malignant progression. However, the function of miR-194 in gastric cancer (GC) remains unclear and controversial. In this study, we identified a series of miRNAs that can serve as prognostic biomarkers for GC by analysis of miRNA expression using TCGA (The Cancer Genome Atlas) data. Among them, miR-100, miR-125b, miR-199a and miR-194 were the 4 most promising prognostic biomarkers in GC due to their significant associations with various clinical characteristics of patients. MiR-100, miR-125b and miR-199a predicted poor prognosis in GC, while miR-194 predicted favorable prognosis in GC. We also provide\\xa0the\\xa0first\\xa0comprehensive transcriptome analysis of miR-194 in GC. Our data suggest that miR-194 tends to regulated target genes by binding to their 3' untranslated regions in a 7-mer-A1, 7-mer-m8 or 8-mer manner. KEGG pathway analysis showed that the cell cycle was one of the pathways most affected by miR-194 in GC. Moreover, CCND1 was shown to be a novel target gene of miR-194 in GC. Additionally, downregulation of CCND1 by miR-194 in GC further led to cell growth inhibition and cell cycle arrest. In conclusion, miR-100, miR-125b, miR-199a and miR-194 may have potential as prognostic and diagnostic biomarkers for GC. MiR-194 suppresses GC cell growth mainly through targeting CCND1 and induction of cell cycle arrest.\"]\n",
      "\n",
      "[StringElement('After a myocardial infarction, the adult human heart lacks sufficient regenerative capacity to restore lost tissue, leading to heart failure progression. Finding novel ways to reprogram adult cardiomyocytes into a regenerative state is a major therapeutic goal. The epicardium, the outermost layer of the heart, contributes cardiovascular cell types to the forming heart and is a source of trophic signals to promote heart muscle growth during embryonic development. The epicardium is also essential for heart regeneration in zebrafish and neonatal mice and can be reactivated after injury in adult hearts to improve outcome. A recently identified mechanism of cell-cell communication and signalling is that mediated by extracellular vesicles (EVs). Here, we aimed to investigate epicardial signalling via EV release in response to cardiac injury and as a means to optimise cardiac repair and regeneration.', attributes={'Label': 'AIMS', 'NlmCategory': 'OBJECTIVE'}), StringElement('We isolated epicardial EVs from mouse and human sources and targeted the cardiomyocyte population. Epicardial EVs enhanced proliferation in H9C2 cells and in primary neonatal murine cardiomyocytes in vitro and promoted cell cycle re-entry when injected into the injured area of infarcted neonatal hearts. These EVs also enhanced regeneration in cryo-injured engineered human myocardium (EHM) as a novel model of human myocardial injury. Deep RNA-sequencing of epicardial EV cargo revealed conserved microRNAs (miRs) between human and mouse-epicardial-derived exosomes, and the effects on cell cycle re-entry were recapitulated by administration of cargo miR-30a, miR-100, miR-27a and miR-30e to human stem cell-derived cardiomyocytes and cryo-injured EHM constructs.', attributes={'Label': 'METHODS AND RESULTS', 'NlmCategory': 'RESULTS'}), StringElement('Here we describe the first characterisation of epicardial EV secretion, which can signal to promote proliferation of cardiomyocytes in infarcted mouse hearts and in a human model of myocardial injury, resulting in enhanced contractile function. Analysis of exosome cargo in mouse and human identified conserved pro-regenerative microRNAs which in combination recapitulated the therapeutic effects of promoting cardiomyocyte proliferation.', attributes={'Label': 'CONCLUSION', 'NlmCategory': 'CONCLUSIONS'}), StringElement('Coronary artery disease leading to myocardial infarction (\"heart attack\") is a major cause of death worldwide . After a heart attack, the myocardium is unable to regenerate, therefore, the heart remains permanently scarred and unable to carry out its function, which eventually leads to heart failure. Current therapies are palliative, aimed at unburdening the failing heart, or heart transplantation. Reprogramming adult cardiomyocytes to a proliferative state, via the use of non-inmunogenic EVs is a potential therapeutic approach to restore lost heart muscle, resolve scarring and prevent heart failure progression.', attributes={'Label': 'TRANSLATIONAL PERSPECTIVE', 'NlmCategory': 'UNASSIGNED'})]\n",
      "\n",
      "['Gastric cancer (GC) is a common malignant digestive tract tumor that leads to high mortality worldwide. Early diagnosis of GC is very important for adequate treatment. However, a rapid, specific and sensitive method for the detection of GC is currently not available. Here, a biosensor CPs/AuNP-AuE, the gold nanoparticle (AuNP)-modified Au electrode (AuE) which was coupled with DNA capture probes (CPs), was developed to detect the content of miR-100 in the sera of GC patients. The results showed that AuNPs were uniformly deposited on the surface of AuE. AuNPs enhanced the electrical conductivity and improved the effective area of AuE. CPs were successfully assembled on AuNP-AuE that could be digested by duplex-specific nuclease (DSN) from the miR-100/CPs complex on the electrode, improving the sensitivity of the biosensor by recycling miR-100. The data revealed that the biosensor was highly specific for the detection of miR-100, which had the ability to distinguish one base-pair mistake in miR-100. The detection of the biosensor for miR-100 ranged from 100 aM to 10 pM and the limit of detection (LOD) was estimated to be 100 aM. The detection results of 100 human sera samples using this biosensor indicated that the cutoff for the detection of gastric cancer was 5\\xa0fM. Therefore the biosensor developed in our study served as\\xa0a rapid, specific and sensitive strategy for the detection of gastric cancer in clinic.']\n",
      "\n",
      "['Hepatocellular carcinoma (HCC) is one of the deadliest malignant tumors that are harmful to human health. Increasing evidence has underscored the critical role of the competitive endogenous RNA (ceRNA) regulatory networks among various human cancers. However, the complexity and behavior characteristics of the ceRNA network in HCC were still unclear. In this study, we aimed to clarify a phosphatase and tensin homolog (PTEN)-related ceRNA regulatory network and identify potential prognostic markers associated with HCC. The expression profiles of three RNAs (long non-coding RNAs [lncRNAs], microRNAs [miRNAs], and mRNAs) were extracted from The Cancer Genome Atlas (TCGA) database. The DLEU2L-hsa-miR-100-5p/ hsa-miR-99a-5p-TAOK1 ceRNA network related to the prognosis of HCC was obtained by performing bioinformatics analysis. Importantly, we identified the DLEU2L/TAOK1 axis in the ceRNA by using correlation analysis, and it appeared to become a clinical prognostic model by Cox regression analysis. Furthermore, methylation analyses suggested that the abnormal upregulation of the DLEU2L/TAOK1 axis likely resulted from hypomethylation, and immune infiltration analysis showed that the DLEU2L/TAOK1 axis may have an impact on the changes in the tumor immune microenvironment and the development of HCC. In summary, the current study constructing a ceRNA-based DLEU2L/TAOK1 axis might be a novel important prognostic factor associated with the diagnosis and prognosis of HCC.']\n"
     ]
    }
   ],
   "source": [
    "print(abs_list[0])\n",
    "print()\n",
    "print(abs_list[1])\n",
    "print()\n",
    "print(abs_list[2])\n",
    "print()\n",
    "print(abs_list[3])"
   ]
  },
  {
   "cell_type": "markdown",
   "metadata": {},
   "source": [
    "As we can see, `article_2` is not formatted correctly. Unlike others, this abstract is split up into different sections (intro, methods, results, etc.). To fix this, we need to concatenate all sections into one coherent text chunk. Below we will design a function to detect articles in this format, and to concatenate them and replace them in the dictionary with the correctly formatted text."
   ]
  },
  {
   "cell_type": "code",
   "execution_count": 10,
   "metadata": {},
   "outputs": [
    {
     "data": {
      "text/plain": [
       "[1, 4, 1, 1, 1, 5]"
      ]
     },
     "execution_count": 10,
     "metadata": {},
     "output_type": "execute_result"
    }
   ],
   "source": [
    "[len(abs_list[i]) for i in range(6)]"
   ]
  },
  {
   "cell_type": "code",
   "execution_count": 11,
   "metadata": {},
   "outputs": [],
   "source": [
    "def concat_article(x):\n",
    "    final_article = str()\n",
    "    for i in range(len(x)):\n",
    "        final_article = final_article + str(x[i]) + ' '\n",
    "    return final_article"
   ]
  },
  {
   "cell_type": "markdown",
   "metadata": {},
   "source": [
    "Testing this function on `article_4` (which it should fix) and `article_1` (which it should do nothing to):"
   ]
  },
  {
   "cell_type": "code",
   "execution_count": 12,
   "metadata": {},
   "outputs": [
    {
     "name": "stdout",
     "output_type": "stream",
     "text": [
      "After a myocardial infarction, the adult human heart lacks sufficient regenerative capacity to restore lost tissue, leading to heart failure progression. Finding novel ways to reprogram adult cardiomyocytes into a regenerative state is a major therapeutic goal. The epicardium, the outermost layer of the heart, contributes cardiovascular cell types to the forming heart and is a source of trophic signals to promote heart muscle growth during embryonic development. The epicardium is also essential for heart regeneration in zebrafish and neonatal mice and can be reactivated after injury in adult hearts to improve outcome. A recently identified mechanism of cell-cell communication and signalling is that mediated by extracellular vesicles (EVs). Here, we aimed to investigate epicardial signalling via EV release in response to cardiac injury and as a means to optimise cardiac repair and regeneration. We isolated epicardial EVs from mouse and human sources and targeted the cardiomyocyte population. Epicardial EVs enhanced proliferation in H9C2 cells and in primary neonatal murine cardiomyocytes in vitro and promoted cell cycle re-entry when injected into the injured area of infarcted neonatal hearts. These EVs also enhanced regeneration in cryo-injured engineered human myocardium (EHM) as a novel model of human myocardial injury. Deep RNA-sequencing of epicardial EV cargo revealed conserved microRNAs (miRs) between human and mouse-epicardial-derived exosomes, and the effects on cell cycle re-entry were recapitulated by administration of cargo miR-30a, miR-100, miR-27a and miR-30e to human stem cell-derived cardiomyocytes and cryo-injured EHM constructs. Here we describe the first characterisation of epicardial EV secretion, which can signal to promote proliferation of cardiomyocytes in infarcted mouse hearts and in a human model of myocardial injury, resulting in enhanced contractile function. Analysis of exosome cargo in mouse and human identified conserved pro-regenerative microRNAs which in combination recapitulated the therapeutic effects of promoting cardiomyocyte proliferation. Coronary artery disease leading to myocardial infarction (\"heart attack\") is a major cause of death worldwide . After a heart attack, the myocardium is unable to regenerate, therefore, the heart remains permanently scarred and unable to carry out its function, which eventually leads to heart failure. Current therapies are palliative, aimed at unburdening the failing heart, or heart transplantation. Reprogramming adult cardiomyocytes to a proliferative state, via the use of non-inmunogenic EVs is a potential therapeutic approach to restore lost heart muscle, resolve scarring and prevent heart failure progression. \n",
      "\n",
      "MicroRNAs play critical roles in regulating target gene expression and multiple cellular processes in human cancer malignant progression. However, the function of miR-194 in gastric cancer (GC) remains unclear and controversial. In this study, we identified a series of miRNAs that can serve as prognostic biomarkers for GC by analysis of miRNA expression using TCGA (The Cancer Genome Atlas) data. Among them, miR-100, miR-125b, miR-199a and miR-194 were the 4 most promising prognostic biomarkers in GC due to their significant associations with various clinical characteristics of patients. MiR-100, miR-125b and miR-199a predicted poor prognosis in GC, while miR-194 predicted favorable prognosis in GC. We also provide the first comprehensive transcriptome analysis of miR-194 in GC. Our data suggest that miR-194 tends to regulated target genes by binding to their 3' untranslated regions in a 7-mer-A1, 7-mer-m8 or 8-mer manner. KEGG pathway analysis showed that the cell cycle was one of the pathways most affected by miR-194 in GC. Moreover, CCND1 was shown to be a novel target gene of miR-194 in GC. Additionally, downregulation of CCND1 by miR-194 in GC further led to cell growth inhibition and cell cycle arrest. In conclusion, miR-100, miR-125b, miR-199a and miR-194 may have potential as prognostic and diagnostic biomarkers for GC. MiR-194 suppresses GC cell growth mainly through targeting CCND1 and induction of cell cycle arrest. \n"
     ]
    }
   ],
   "source": [
    "print(concat_article(abs_list[1]))\n",
    "print()\n",
    "print(concat_article(abs_list[0]))"
   ]
  },
  {
   "cell_type": "markdown",
   "metadata": {},
   "source": [
    "Now, we will iterate through our dictionary and concatenate all our articles using the function above:"
   ]
  },
  {
   "cell_type": "code",
   "execution_count": 14,
   "metadata": {},
   "outputs": [
    {
     "ename": "TypeError",
     "evalue": "object of type 'NoneType' has no len()",
     "output_type": "error",
     "traceback": [
      "\u001b[0;31m---------------------------------------------------------------------------\u001b[0m",
      "\u001b[0;31mTypeError\u001b[0m                                 Traceback (most recent call last)",
      "\u001b[0;32m<ipython-input-14-60c13c9d11e9>\u001b[0m in \u001b[0;36m<module>\u001b[0;34m\u001b[0m\n\u001b[0;32m----> 1\u001b[0;31m \u001b[0mabs_list\u001b[0m \u001b[0;34m=\u001b[0m \u001b[0;34m[\u001b[0m\u001b[0mconcat_article\u001b[0m\u001b[0;34m(\u001b[0m\u001b[0mi\u001b[0m\u001b[0;34m)\u001b[0m \u001b[0;32mfor\u001b[0m \u001b[0mi\u001b[0m \u001b[0;32min\u001b[0m \u001b[0mabs_list\u001b[0m\u001b[0;34m]\u001b[0m\u001b[0;34m\u001b[0m\u001b[0;34m\u001b[0m\u001b[0m\n\u001b[0m",
      "\u001b[0;32m<ipython-input-14-60c13c9d11e9>\u001b[0m in \u001b[0;36m<listcomp>\u001b[0;34m(.0)\u001b[0m\n\u001b[0;32m----> 1\u001b[0;31m \u001b[0mabs_list\u001b[0m \u001b[0;34m=\u001b[0m \u001b[0;34m[\u001b[0m\u001b[0mconcat_article\u001b[0m\u001b[0;34m(\u001b[0m\u001b[0mi\u001b[0m\u001b[0;34m)\u001b[0m \u001b[0;32mfor\u001b[0m \u001b[0mi\u001b[0m \u001b[0;32min\u001b[0m \u001b[0mabs_list\u001b[0m\u001b[0;34m]\u001b[0m\u001b[0;34m\u001b[0m\u001b[0;34m\u001b[0m\u001b[0m\n\u001b[0m",
      "\u001b[0;32m<ipython-input-11-aee2ec69fdec>\u001b[0m in \u001b[0;36mconcat_article\u001b[0;34m(x)\u001b[0m\n\u001b[1;32m      1\u001b[0m \u001b[0;32mdef\u001b[0m \u001b[0mconcat_article\u001b[0m\u001b[0;34m(\u001b[0m\u001b[0mx\u001b[0m\u001b[0;34m)\u001b[0m\u001b[0;34m:\u001b[0m\u001b[0;34m\u001b[0m\u001b[0;34m\u001b[0m\u001b[0m\n\u001b[1;32m      2\u001b[0m     \u001b[0mfinal_article\u001b[0m \u001b[0;34m=\u001b[0m \u001b[0mstr\u001b[0m\u001b[0;34m(\u001b[0m\u001b[0;34m)\u001b[0m\u001b[0;34m\u001b[0m\u001b[0;34m\u001b[0m\u001b[0m\n\u001b[0;32m----> 3\u001b[0;31m     \u001b[0;32mfor\u001b[0m \u001b[0mi\u001b[0m \u001b[0;32min\u001b[0m \u001b[0mrange\u001b[0m\u001b[0;34m(\u001b[0m\u001b[0mlen\u001b[0m\u001b[0;34m(\u001b[0m\u001b[0mx\u001b[0m\u001b[0;34m)\u001b[0m\u001b[0;34m)\u001b[0m\u001b[0;34m:\u001b[0m\u001b[0;34m\u001b[0m\u001b[0;34m\u001b[0m\u001b[0m\n\u001b[0m\u001b[1;32m      4\u001b[0m         \u001b[0mfinal_article\u001b[0m \u001b[0;34m=\u001b[0m \u001b[0mfinal_article\u001b[0m \u001b[0;34m+\u001b[0m \u001b[0mstr\u001b[0m\u001b[0;34m(\u001b[0m\u001b[0mx\u001b[0m\u001b[0;34m[\u001b[0m\u001b[0mi\u001b[0m\u001b[0;34m]\u001b[0m\u001b[0;34m)\u001b[0m \u001b[0;34m+\u001b[0m \u001b[0;34m' '\u001b[0m\u001b[0;34m\u001b[0m\u001b[0;34m\u001b[0m\u001b[0m\n\u001b[1;32m      5\u001b[0m     \u001b[0;32mreturn\u001b[0m \u001b[0mfinal_article\u001b[0m\u001b[0;34m\u001b[0m\u001b[0;34m\u001b[0m\u001b[0m\n",
      "\u001b[0;31mTypeError\u001b[0m: object of type 'NoneType' has no len()"
     ]
    }
   ],
   "source": [
    "abs_list = [concat_article(i) for i in abs_list]"
   ]
  },
  {
   "cell_type": "markdown",
   "metadata": {},
   "source": [
    "This error indicates that one of our articles is of type `NoneType`. Looking at our articles, we can check the `type` of each element of list `abs_list`:"
   ]
  },
  {
   "cell_type": "code",
   "execution_count": 15,
   "metadata": {},
   "outputs": [
    {
     "name": "stdout",
     "output_type": "stream",
     "text": [
      "Article 0 is: <class 'list'>\n",
      "Article 1 is: <class 'list'>\n",
      "Article 2 is: <class 'list'>\n",
      "Article 3 is: <class 'list'>\n",
      "Article 4 is: <class 'list'>\n",
      "Article 5 is: <class 'list'>\n",
      "Article 6 is: <class 'list'>\n",
      "Article 7 is: <class 'list'>\n",
      "Article 8 is: <class 'list'>\n",
      "Article 9 is: <class 'list'>\n",
      "Article 10 is: <class 'list'>\n",
      "Article 11 is: <class 'list'>\n",
      "Article 12 is: <class 'list'>\n",
      "Article 13 is: <class 'list'>\n",
      "Article 14 is: <class 'list'>\n",
      "Article 15 is: <class 'NoneType'>\n",
      "Article 16 is: <class 'list'>\n",
      "Article 17 is: <class 'list'>\n",
      "Article 18 is: <class 'list'>\n",
      "Article 19 is: <class 'list'>\n"
     ]
    }
   ],
   "source": [
    "counter = 0\n",
    "for i in abs_list:\n",
    "   \n",
    "    #i = concat_article(i)\n",
    "    \n",
    "    print(str('Article ' + str(counter) + ' is: ' + str(type(i))))\n",
    "    counter +=1"
   ]
  },
  {
   "cell_type": "markdown",
   "metadata": {},
   "source": [
    "So we can see, we need to correct the `NoneType` object (the objects that are lists will be handled by the `concat_article` function). This is as simple by removing these items from our list seeing as they do not contain any information. "
   ]
  },
  {
   "cell_type": "code",
   "execution_count": 16,
   "metadata": {},
   "outputs": [],
   "source": [
    "abs_list = [concat_article(i) for i in abs_list if i is not None]"
   ]
  },
  {
   "cell_type": "markdown",
   "metadata": {},
   "source": [
    "And look at articles 1 and 4 to ensure they are formatted how we'd like: "
   ]
  },
  {
   "cell_type": "code",
   "execution_count": 17,
   "metadata": {},
   "outputs": [
    {
     "name": "stdout",
     "output_type": "stream",
     "text": [
      "MicroRNAs play critical roles in regulating target gene expression and multiple cellular processes in human cancer malignant progression. However, the function of miR-194 in gastric cancer (GC) remains unclear and controversial. In this study, we identified a series of miRNAs that can serve as prognostic biomarkers for GC by analysis of miRNA expression using TCGA (The Cancer Genome Atlas) data. Among them, miR-100, miR-125b, miR-199a and miR-194 were the 4 most promising prognostic biomarkers in GC due to their significant associations with various clinical characteristics of patients. MiR-100, miR-125b and miR-199a predicted poor prognosis in GC, while miR-194 predicted favorable prognosis in GC. We also provide the first comprehensive transcriptome analysis of miR-194 in GC. Our data suggest that miR-194 tends to regulated target genes by binding to their 3' untranslated regions in a 7-mer-A1, 7-mer-m8 or 8-mer manner. KEGG pathway analysis showed that the cell cycle was one of the pathways most affected by miR-194 in GC. Moreover, CCND1 was shown to be a novel target gene of miR-194 in GC. Additionally, downregulation of CCND1 by miR-194 in GC further led to cell growth inhibition and cell cycle arrest. In conclusion, miR-100, miR-125b, miR-199a and miR-194 may have potential as prognostic and diagnostic biomarkers for GC. MiR-194 suppresses GC cell growth mainly through targeting CCND1 and induction of cell cycle arrest. \n",
      "\n",
      "After a myocardial infarction, the adult human heart lacks sufficient regenerative capacity to restore lost tissue, leading to heart failure progression. Finding novel ways to reprogram adult cardiomyocytes into a regenerative state is a major therapeutic goal. The epicardium, the outermost layer of the heart, contributes cardiovascular cell types to the forming heart and is a source of trophic signals to promote heart muscle growth during embryonic development. The epicardium is also essential for heart regeneration in zebrafish and neonatal mice and can be reactivated after injury in adult hearts to improve outcome. A recently identified mechanism of cell-cell communication and signalling is that mediated by extracellular vesicles (EVs). Here, we aimed to investigate epicardial signalling via EV release in response to cardiac injury and as a means to optimise cardiac repair and regeneration. We isolated epicardial EVs from mouse and human sources and targeted the cardiomyocyte population. Epicardial EVs enhanced proliferation in H9C2 cells and in primary neonatal murine cardiomyocytes in vitro and promoted cell cycle re-entry when injected into the injured area of infarcted neonatal hearts. These EVs also enhanced regeneration in cryo-injured engineered human myocardium (EHM) as a novel model of human myocardial injury. Deep RNA-sequencing of epicardial EV cargo revealed conserved microRNAs (miRs) between human and mouse-epicardial-derived exosomes, and the effects on cell cycle re-entry were recapitulated by administration of cargo miR-30a, miR-100, miR-27a and miR-30e to human stem cell-derived cardiomyocytes and cryo-injured EHM constructs. Here we describe the first characterisation of epicardial EV secretion, which can signal to promote proliferation of cardiomyocytes in infarcted mouse hearts and in a human model of myocardial injury, resulting in enhanced contractile function. Analysis of exosome cargo in mouse and human identified conserved pro-regenerative microRNAs which in combination recapitulated the therapeutic effects of promoting cardiomyocyte proliferation. Coronary artery disease leading to myocardial infarction (\"heart attack\") is a major cause of death worldwide . After a heart attack, the myocardium is unable to regenerate, therefore, the heart remains permanently scarred and unable to carry out its function, which eventually leads to heart failure. Current therapies are palliative, aimed at unburdening the failing heart, or heart transplantation. Reprogramming adult cardiomyocytes to a proliferative state, via the use of non-inmunogenic EVs is a potential therapeutic approach to restore lost heart muscle, resolve scarring and prevent heart failure progression. \n",
      "\n"
     ]
    }
   ],
   "source": [
    "print(abs_list[0])\n",
    "print()\n",
    "print(abs_list[1])\n",
    "print()"
   ]
  },
  {
   "cell_type": "markdown",
   "metadata": {},
   "source": [
    "## **Feature Representation**\n",
    "\n",
    "Now, we will look at some of the features in our text. First, we will use a term frequency encoder to determine which terms are used most in the abstracts we've accessed. \n",
    "\n",
    "### Term frequency encoder"
   ]
  },
  {
   "cell_type": "code",
   "execution_count": 18,
   "metadata": {},
   "outputs": [
    {
     "name": "stderr",
     "output_type": "stream",
     "text": [
      "/home/shane/anaconda3/lib/python3.7/site-packages/sklearn/feature_extraction/image.py:167: DeprecationWarning: `np.int` is a deprecated alias for the builtin `int`. To silence this warning, use `int` by itself. Doing this will not modify any behavior and is safe. When replacing `np.int`, you may wish to use e.g. `np.int64` or `np.int32` to specify the precision. If you wish to review your current use, check the release note link for additional information.\n",
      "Deprecated in NumPy 1.20; for more details and guidance: https://numpy.org/devdocs/release/1.20.0-notes.html#deprecations\n",
      "  dtype=np.int):\n",
      "/home/shane/anaconda3/lib/python3.7/site-packages/sklearn/linear_model/least_angle.py:30: DeprecationWarning: `np.float` is a deprecated alias for the builtin `float`. To silence this warning, use `float` by itself. Doing this will not modify any behavior and is safe. If you specifically wanted the numpy scalar type, use `np.float64` here.\n",
      "Deprecated in NumPy 1.20; for more details and guidance: https://numpy.org/devdocs/release/1.20.0-notes.html#deprecations\n",
      "  method='lar', copy_X=True, eps=np.finfo(np.float).eps,\n",
      "/home/shane/anaconda3/lib/python3.7/site-packages/sklearn/linear_model/least_angle.py:167: DeprecationWarning: `np.float` is a deprecated alias for the builtin `float`. To silence this warning, use `float` by itself. Doing this will not modify any behavior and is safe. If you specifically wanted the numpy scalar type, use `np.float64` here.\n",
      "Deprecated in NumPy 1.20; for more details and guidance: https://numpy.org/devdocs/release/1.20.0-notes.html#deprecations\n",
      "  method='lar', copy_X=True, eps=np.finfo(np.float).eps,\n",
      "/home/shane/anaconda3/lib/python3.7/site-packages/sklearn/linear_model/least_angle.py:284: DeprecationWarning: `np.float` is a deprecated alias for the builtin `float`. To silence this warning, use `float` by itself. Doing this will not modify any behavior and is safe. If you specifically wanted the numpy scalar type, use `np.float64` here.\n",
      "Deprecated in NumPy 1.20; for more details and guidance: https://numpy.org/devdocs/release/1.20.0-notes.html#deprecations\n",
      "  eps=np.finfo(np.float).eps, copy_Gram=True, verbose=0,\n",
      "/home/shane/anaconda3/lib/python3.7/site-packages/sklearn/linear_model/least_angle.py:862: DeprecationWarning: `np.float` is a deprecated alias for the builtin `float`. To silence this warning, use `float` by itself. Doing this will not modify any behavior and is safe. If you specifically wanted the numpy scalar type, use `np.float64` here.\n",
      "Deprecated in NumPy 1.20; for more details and guidance: https://numpy.org/devdocs/release/1.20.0-notes.html#deprecations\n",
      "  eps=np.finfo(np.float).eps, copy_X=True, fit_path=True,\n",
      "/home/shane/anaconda3/lib/python3.7/site-packages/sklearn/linear_model/least_angle.py:1101: DeprecationWarning: `np.float` is a deprecated alias for the builtin `float`. To silence this warning, use `float` by itself. Doing this will not modify any behavior and is safe. If you specifically wanted the numpy scalar type, use `np.float64` here.\n",
      "Deprecated in NumPy 1.20; for more details and guidance: https://numpy.org/devdocs/release/1.20.0-notes.html#deprecations\n",
      "  eps=np.finfo(np.float).eps, copy_X=True, fit_path=True,\n",
      "/home/shane/anaconda3/lib/python3.7/site-packages/sklearn/linear_model/least_angle.py:1127: DeprecationWarning: `np.float` is a deprecated alias for the builtin `float`. To silence this warning, use `float` by itself. Doing this will not modify any behavior and is safe. If you specifically wanted the numpy scalar type, use `np.float64` here.\n",
      "Deprecated in NumPy 1.20; for more details and guidance: https://numpy.org/devdocs/release/1.20.0-notes.html#deprecations\n",
      "  eps=np.finfo(np.float).eps, positive=False):\n",
      "/home/shane/anaconda3/lib/python3.7/site-packages/sklearn/linear_model/least_angle.py:1362: DeprecationWarning: `np.float` is a deprecated alias for the builtin `float`. To silence this warning, use `float` by itself. Doing this will not modify any behavior and is safe. If you specifically wanted the numpy scalar type, use `np.float64` here.\n",
      "Deprecated in NumPy 1.20; for more details and guidance: https://numpy.org/devdocs/release/1.20.0-notes.html#deprecations\n",
      "  max_n_alphas=1000, n_jobs=None, eps=np.finfo(np.float).eps,\n",
      "/home/shane/anaconda3/lib/python3.7/site-packages/sklearn/linear_model/least_angle.py:1602: DeprecationWarning: `np.float` is a deprecated alias for the builtin `float`. To silence this warning, use `float` by itself. Doing this will not modify any behavior and is safe. If you specifically wanted the numpy scalar type, use `np.float64` here.\n",
      "Deprecated in NumPy 1.20; for more details and guidance: https://numpy.org/devdocs/release/1.20.0-notes.html#deprecations\n",
      "  max_n_alphas=1000, n_jobs=None, eps=np.finfo(np.float).eps,\n",
      "/home/shane/anaconda3/lib/python3.7/site-packages/sklearn/linear_model/least_angle.py:1738: DeprecationWarning: `np.float` is a deprecated alias for the builtin `float`. To silence this warning, use `float` by itself. Doing this will not modify any behavior and is safe. If you specifically wanted the numpy scalar type, use `np.float64` here.\n",
      "Deprecated in NumPy 1.20; for more details and guidance: https://numpy.org/devdocs/release/1.20.0-notes.html#deprecations\n",
      "  eps=np.finfo(np.float).eps, copy_X=True, positive=False):\n",
      "[nltk_data] Downloading package stopwords to /home/shane/nltk_data...\n",
      "[nltk_data]   Package stopwords is already up-to-date!\n",
      "[nltk_data] Downloading package punkt to /home/shane/nltk_data...\n",
      "[nltk_data]   Package punkt is already up-to-date!\n"
     ]
    },
    {
     "ename": "NameError",
     "evalue": "name 'RegexpTokenizer' is not defined",
     "output_type": "error",
     "traceback": [
      "\u001b[0;31m---------------------------------------------------------------------------\u001b[0m",
      "\u001b[0;31mNameError\u001b[0m                                 Traceback (most recent call last)",
      "\u001b[0;32m<ipython-input-18-a1cb3d6b9c62>\u001b[0m in \u001b[0;36m<module>\u001b[0;34m\u001b[0m\n\u001b[1;32m      9\u001b[0m \u001b[0;34m\u001b[0m\u001b[0m\n\u001b[1;32m     10\u001b[0m \u001b[0;34m\u001b[0m\u001b[0m\n\u001b[0;32m---> 11\u001b[0;31m \u001b[0mtokenizer\u001b[0m \u001b[0;34m=\u001b[0m \u001b[0mRegexpTokenizer\u001b[0m\u001b[0;34m(\u001b[0m\u001b[0;34mr'\\w+'\u001b[0m\u001b[0;34m)\u001b[0m\u001b[0;34m\u001b[0m\u001b[0;34m\u001b[0m\u001b[0m\n\u001b[0m\u001b[1;32m     12\u001b[0m \u001b[0;34m\u001b[0m\u001b[0m\n\u001b[1;32m     13\u001b[0m \u001b[0mtokenized\u001b[0m \u001b[0;34m=\u001b[0m \u001b[0;34m[\u001b[0m\u001b[0mword_tokenize\u001b[0m\u001b[0;34m(\u001b[0m\u001b[0mabs\u001b[0m\u001b[0;34m)\u001b[0m \u001b[0;32mfor\u001b[0m \u001b[0mabs\u001b[0m \u001b[0;32min\u001b[0m \u001b[0mabs_list\u001b[0m\u001b[0;34m]\u001b[0m\u001b[0;34m\u001b[0m\u001b[0;34m\u001b[0m\u001b[0m\n",
      "\u001b[0;31mNameError\u001b[0m: name 'RegexpTokenizer' is not defined"
     ]
    }
   ],
   "source": [
    "from nltk.tokenize import word_tokenize\n",
    "from nltk.corpus import stopwords\n",
    "import nltk\n",
    "import pandas as pd\n",
    "\n",
    "nltk.download('stopwords')\n",
    "nltk.download('punkt')\n",
    "punctuation = '.,?:;()\"' + \"'\"\n",
    "\n",
    "\n",
    "tokenizer = RegexpTokenizer(r'\\w+')\n",
    "\n",
    "tokenized = [word_tokenize(abs) for abs in abs_list]"
   ]
  },
  {
   "cell_type": "code",
   "execution_count": null,
   "metadata": {},
   "outputs": [],
   "source": [
    "from sklearn.feature_extraction.text import CountVectorizer\n",
    "abs_vect = CountVectorizer(stop_words = stopwords.words('english'))\n",
    "abs_bow = abs_vect.fit_transform(abs_list)\n",
    "word_freq_df = pd.DataFrame(abs_bow.toarray(), columns = abs_vect.get_feature_names())"
   ]
  },
  {
   "cell_type": "code",
   "execution_count": null,
   "metadata": {},
   "outputs": [],
   "source": [
    "# Get top x most frequent words\n",
    "\n",
    "freq_sum_list = []\n",
    "\n",
    "for i in word_freq_df.columns:\n",
    "    freq_sum_list.append(word_freq_df[i].sum())"
   ]
  },
  {
   "cell_type": "code",
   "execution_count": null,
   "metadata": {},
   "outputs": [],
   "source": [
    "from collections import Counter\n",
    "\n",
    "freq_counter = Counter(dict(zip(word_freq_df.columns, freq_sum_list)))\n",
    "\n",
    "freq_counter.most_common(30)"
   ]
  },
  {
   "cell_type": "code",
   "execution_count": null,
   "metadata": {},
   "outputs": [],
   "source": [
    "import matplotlib.pyplot as plt\n",
    "from wordcloud import WordCloud\n",
    "\n",
    "test_list = [i.lower() for i in test_str if i not in stopwords.words('english') and i not in punctuation]\n",
    "\n",
    "unique_string=(\" \").join(test_list)\n",
    "wordcloud = WordCloud(max_words=100).generate(unique_string)\n",
    "plt.figure(figsize=(15,8))\n",
    "plt.imshow(wordcloud)\n",
    "plt.axis(\"off\")\n",
    "plt.show()"
   ]
  }
 ],
 "metadata": {
  "kernelspec": {
   "display_name": "Python 3",
   "language": "python",
   "name": "python3"
  },
  "language_info": {
   "codemirror_mode": {
    "name": "ipython",
    "version": 3
   },
   "file_extension": ".py",
   "mimetype": "text/x-python",
   "name": "python",
   "nbconvert_exporter": "python",
   "pygments_lexer": "ipython3",
   "version": "3.7.4"
  }
 },
 "nbformat": 4,
 "nbformat_minor": 4
}
