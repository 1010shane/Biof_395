{
 "cells": [
  {
   "cell_type": "markdown",
   "metadata": {},
   "source": [
    "# **Biof395 Final Project**\n",
    "Shane Chambers"
   ]
  },
  {
   "cell_type": "markdown",
   "metadata": {},
   "source": [
    "## **Oview and Description**\n",
    "\n",
    "The goal of this project is to make a dynamic application that will summarize the literature findings surrounding a miRNA that the user inputs into the program. This will require the program to:\n",
    "- Receive user input\n",
    "- Query and download the relevant literature \n",
    "- process the literature \n",
    "- Transform the literature into feature representations\n",
    "- Build a text mining model\n",
    "- Evaluate the performance of the model\n",
    "\n",
    "We will work through each aspect of this process below."
   ]
  },
  {
   "cell_type": "markdown",
   "metadata": {},
   "source": [
    "## **Receive User Input**\n",
    "\n",
    "First, we will prompt the user to enter the [miRBase](http://www.mirbase.org/) accession of their miRNA of interest. This is a unique code associated with every known miRNA that standardizes the nomenclature to avoid confusion."
   ]
  },
  {
   "cell_type": "code",
   "execution_count": 1,
   "metadata": {},
   "outputs": [
    {
     "name": "stdin",
     "output_type": "stream",
     "text": [
      "Enter the miRbase accession number of your miR of interest MI0000692\n"
     ]
    }
   ],
   "source": [
    "user_mir = input('Enter the miRbase accession number of your miR of interest:')\n",
    "\n",
    "# For this example, we will enter the accession of mmu-mir-100; MI0000692"
   ]
  },
  {
   "cell_type": "markdown",
   "metadata": {},
   "source": [
    "Now, we will reference this to a database downloaded from the miRbase FTP site [containing every known miR and its accession number.](ftp://mirbase.org/pub/mirbase/CURRENT/miRNA.xls.gz) This file has been unzipped and downloaded, and is saved in this folder as `miRNA.xlsx`. Below, we will import and manipulate it using `pandas` so that the `user_mir` can be queried against it. "
   ]
  },
  {
   "cell_type": "code",
   "execution_count": 14,
   "metadata": {},
   "outputs": [
    {
     "data": {
      "text/html": [
       "<div>\n",
       "<style scoped>\n",
       "    .dataframe tbody tr th:only-of-type {\n",
       "        vertical-align: middle;\n",
       "    }\n",
       "\n",
       "    .dataframe tbody tr th {\n",
       "        vertical-align: top;\n",
       "    }\n",
       "\n",
       "    .dataframe thead th {\n",
       "        text-align: right;\n",
       "    }\n",
       "</style>\n",
       "<table border=\"1\" class=\"dataframe\">\n",
       "  <thead>\n",
       "    <tr style=\"text-align: right;\">\n",
       "      <th></th>\n",
       "      <th>Accession</th>\n",
       "      <th>ID</th>\n",
       "    </tr>\n",
       "  </thead>\n",
       "  <tbody>\n",
       "    <tr>\n",
       "      <td>0</td>\n",
       "      <td>MI0000001</td>\n",
       "      <td>cel-let-7</td>\n",
       "    </tr>\n",
       "    <tr>\n",
       "      <td>1</td>\n",
       "      <td>MI0000002</td>\n",
       "      <td>cel-lin-4</td>\n",
       "    </tr>\n",
       "    <tr>\n",
       "      <td>2</td>\n",
       "      <td>MI0000003</td>\n",
       "      <td>cel-mir-1</td>\n",
       "    </tr>\n",
       "    <tr>\n",
       "      <td>3</td>\n",
       "      <td>MI0000004</td>\n",
       "      <td>cel-mir-2</td>\n",
       "    </tr>\n",
       "    <tr>\n",
       "      <td>4</td>\n",
       "      <td>MI0000005</td>\n",
       "      <td>cel-mir-34</td>\n",
       "    </tr>\n",
       "  </tbody>\n",
       "</table>\n",
       "</div>"
      ],
      "text/plain": [
       "   Accession          ID\n",
       "0  MI0000001   cel-let-7\n",
       "1  MI0000002   cel-lin-4\n",
       "2  MI0000003   cel-mir-1\n",
       "3  MI0000004   cel-mir-2\n",
       "4  MI0000005  cel-mir-34"
      ]
     },
     "execution_count": 14,
     "metadata": {},
     "output_type": "execute_result"
    }
   ],
   "source": [
    "import pandas as pd\n",
    "\n",
    "mir_database = pd.read_excel('miRNA.xlsx')\n",
    "\n",
    "mir_database_1 = mir_database.loc[:, ['Accession', 'ID']]\n",
    "mir_database_2 = mir_database.loc[:, ['Mature1_Acc', 'Mature1_ID']].rename(columns = {'Mature1_Acc':'Accession', 'Mature1_ID':'ID'})\n",
    "mir_database_3 = mir_database.loc[:, ['Mature2_Acc', 'Mature2_ID']].rename(columns = {'Mature2_Acc':'Accession', 'Mature2_ID':'ID'})\n",
    "\n",
    "final_database = pd.concat([mir_database_1, mir_database_2, mir_database_3])\n",
    "\n",
    "final_database.head()"
   ]
  },
  {
   "cell_type": "markdown",
   "metadata": {},
   "source": [
    "Now, we need to query the `user_mir` against this database and store the corresponding `ID` as the item we will search in pubmed. We will also check that there is an `ID` that corresponds with the given accession number. "
   ]
  },
  {
   "cell_type": "code",
   "execution_count": 28,
   "metadata": {},
   "outputs": [
    {
     "name": "stdout",
     "output_type": "stream",
     "text": [
      "The accession number MI0000692 corresponds to miR mmu-mir-100\n"
     ]
    }
   ],
   "source": [
    "filtered_database = final_database[final_database['Accession']  == user_mir]['ID']\n",
    "\n",
    "if filtered_database.size == 1:\n",
    "    mir = filtered_database.iloc[0]\n",
    "    print('The accession number ' + user_mir + ' corresponds to miR ' + mir)\n",
    "else:\n",
    "    print('miR accession is incorrect. Try again (caps sensitive)')"
   ]
  }
 ],
 "metadata": {
  "kernelspec": {
   "display_name": "Python 3",
   "language": "python",
   "name": "python3"
  },
  "language_info": {
   "codemirror_mode": {
    "name": "ipython",
    "version": 3
   },
   "file_extension": ".py",
   "mimetype": "text/x-python",
   "name": "python",
   "nbconvert_exporter": "python",
   "pygments_lexer": "ipython3",
   "version": "3.7.4"
  }
 },
 "nbformat": 4,
 "nbformat_minor": 4
}
