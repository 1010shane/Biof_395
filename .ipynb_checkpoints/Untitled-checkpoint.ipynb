{
 "cells": [
  {
   "cell_type": "code",
   "execution_count": 13,
   "metadata": {},
   "outputs": [],
   "source": [
    "from spacy.lang.en import English\n",
    "from spacy.matcher import Matcher\n",
    "import spacy\n",
    "nlp = English()\n",
    "matcher = Matcher(nlp.vocab)"
   ]
  },
  {
   "cell_type": "code",
   "execution_count": 84,
   "metadata": {},
   "outputs": [],
   "source": [
    "# Two tokens whose lowercase forms match 'iphone' and 'x'\n",
    "pattern1 = [{'LOWER': 'mir', 'IS_SPACE': False}, \n",
    "            {'ORTH' : '-', 'IS_SPACE': False},\n",
    "            {'IS_DIGIT': True, 'IS_SPACE': False}, \n",
    "            {'IS_ALPHA': True, 'IS_SPACE': False}]\n",
    "\n",
    "pattern2 = [{'LOWER': 'mir-', 'IS_DIGIT': True, 'IS_ALPHA': True, 'OP': \"?\"}]\n",
    "\n",
    "# Token whose lowercase form matches 'iphone' and an optional digit\n",
    "#pattern2 = [{'LOWER': 'iphone'}, {'IS_DIGIT': True, 'OP': '?'}]\n",
    "\n",
    "# Add patterns to the matcher\n",
    "matcher.add('miR', [pattern1])\n",
    "\n",
    "doc = nlp(\"hello world! miR-133a\")\n",
    "\n",
    "matches = matcher(doc)"
   ]
  },
  {
   "cell_type": "code",
   "execution_count": 85,
   "metadata": {},
   "outputs": [
    {
     "data": {
      "text/plain": [
       "[(4408361420905432618, 3, 4)]"
      ]
     },
     "execution_count": 85,
     "metadata": {},
     "output_type": "execute_result"
    }
   ],
   "source": [
    "matches"
   ]
  },
  {
   "cell_type": "code",
   "execution_count": 86,
   "metadata": {},
   "outputs": [
    {
     "name": "stdout",
     "output_type": "stream",
     "text": [
      "miR\n"
     ]
    }
   ],
   "source": [
    "print(nlp.vocab.strings[4408361420905432618])"
   ]
  },
  {
   "cell_type": "markdown",
   "metadata": {},
   "source": [
    "# START HERE"
   ]
  },
  {
   "cell_type": "code",
   "execution_count": 70,
   "metadata": {},
   "outputs": [
    {
     "data": {
      "text/plain": [
       "13"
      ]
     },
     "execution_count": 70,
     "metadata": {},
     "output_type": "execute_result"
    }
   ],
   "source": [
    "string = \"I want to nd miR-199b\"\n",
    "\n",
    "string.find(\"miR\")"
   ]
  },
  {
   "cell_type": "code",
   "execution_count": 71,
   "metadata": {},
   "outputs": [],
   "source": [
    "len(string)\n",
    "\n",
    "counter = string.find(\"miR\")\n",
    "\n",
    "while counter + 1 < len(string):\n",
    "    counter += 1 \n",
    "    if string[counter] in \".,!? :;\":\n",
    "        end_miR = counter\n",
    "        counter = len(string)"
   ]
  },
  {
   "cell_type": "code",
   "execution_count": 73,
   "metadata": {},
   "outputs": [
    {
     "name": "stdout",
     "output_type": "stream",
     "text": [
      "('I want to nd miR-199b', {'entities': [(13, 21, 'miR')]})\n"
     ]
    }
   ],
   "source": [
    "print((string, {'entities': [(string.find('miR'), end_miR, 'miR')]}))"
   ]
  },
  {
   "cell_type": "code",
   "execution_count": 69,
   "metadata": {},
   "outputs": [
    {
     "data": {
      "text/plain": [
       "21"
      ]
     },
     "execution_count": 69,
     "metadata": {},
     "output_type": "execute_result"
    }
   ],
   "source": [
    "end_miR"
   ]
  },
  {
   "cell_type": "code",
   "execution_count": 66,
   "metadata": {},
   "outputs": [
    {
     "data": {
      "text/plain": [
       "'miR-199b'"
      ]
     },
     "execution_count": 66,
     "metadata": {},
     "output_type": "execute_result"
    }
   ],
   "source": [
    "test_string[test_string.find(\"miR\"):end_miR]"
   ]
  },
  {
   "cell_type": "code",
   "execution_count": 7,
   "metadata": {},
   "outputs": [
    {
     "data": {
      "text/plain": [
       "1"
      ]
     },
     "execution_count": 7,
     "metadata": {},
     "output_type": "execute_result"
    }
   ],
   "source": [
    "nlp = spacy.blank('en')\n",
    "\n",
    "# Create a new entity recognizer and add it to the pipeline\n",
    "nlp.add_pipe(\"ner\")\n",
    "\n",
    "# Add the label 'GADGET' to the entity recognizer\n",
    "ner.add_label('miR')"
   ]
  },
  {
   "cell_type": "code",
   "execution_count": 125,
   "metadata": {},
   "outputs": [],
   "source": [
    "def make_training_data(string, pattern):\n",
    "    counter = string.lower().find(pattern.lower())\n",
    "    end_miR = len(string)\n",
    "    \n",
    "    while counter + 1 < len(string):\n",
    "        counter += 1 \n",
    "        if string[counter] in \".,!? :;\":\n",
    "            end_miR = counter\n",
    "            counter = len(string)\n",
    "            \n",
    "    if string.lower().find(pattern.lower()) == -1:\n",
    "        return((string, {'entities': []}))\n",
    "    else:\n",
    "        return((string, {'entities': [(string.lower().find(pattern.lower()), end_miR, 'miR')]}))\n"
   ]
  },
  {
   "cell_type": "code",
   "execution_count": 129,
   "metadata": {},
   "outputs": [],
   "source": [
    "def check_training_data(string, pattern):\n",
    "    counter = string.lower().find(pattern.lower())\n",
    "    end_miR = len(string)\n",
    "    \n",
    "    while counter + 1 < len(string):\n",
    "        counter += 1 \n",
    "        if string[counter] in \".,!? :;\":\n",
    "            end_miR = counter\n",
    "            counter = len(string)\n",
    "            \n",
    "    if string.lower().find(pattern.lower()) == -1:\n",
    "        return('')\n",
    "    else:\n",
    "        return(string[string.lower().find(pattern.lower()):end_miR])\n"
   ]
  },
  {
   "cell_type": "code",
   "execution_count": 131,
   "metadata": {},
   "outputs": [],
   "source": [
    "abs_1 = \"\"\"MicroRNA miR-34a is recognized as a master regulator of tumor suppression. \n",
    "The strategy of miR-34a replacement has been investigated in clinical trials as the first attempt of miRNA application in cancer treatment. \n",
    "However, emerging outcomes promote the re-evaluation of existing knowledge and urge the need for better understanding the complex biological role of miR-134a. \n",
    "The targets of miR-34a encompass numerous regulators of cancer cell proliferation, survival and resistance to therapy. \n",
    "MiR-34a expression is transcriptionally controlled by p53, a crucial tumor suppressor pathway, often disrupted in cancer. \n",
    "Moreover, miR-34a abundance is fine-tuned by context-dependent feedback loops. \n",
    "The function and effects of exogenously delivered or re-expressed miR-34a on the background of defective p53 therefore remain prominent issues in miR-34a based therapy. \n",
    "In this work, we review p53-independent mechanisms regulating the expression of miR-34a. \n",
    "Since p53-dependent tumor-suppressive mechanisms are disturbed in a substantial proportion of malignancies, we summarize the effects of miR-34a modulation in cell and animal models in the clinically relevant context of disrupted or insufficient p53 function.\"\"\"\n",
    "\n",
    "abs_2 = \"\"\"Recent research has pointed out the involvement of epigenetic modifications in allergic rhinitis (AR), especially DNA methylation. \n",
    "However, the detailed mechanism has remained largely uncovered. \n",
    "We used ovalbumin (OVA) to induce AR in mouse, and behaviour scores were used to confirm its successful establishment. \n",
    "Histamine and other inflammatory factors were detected to further verify success of the model. \n",
    "Real-time PCR was employed to identify the overexpression of miR-199-3p and subsequent down-regulation of DNA methyltransferase 3a (Dnmt3a). \n",
    "Western blotting was utilized to detect Dnmt3a and signal transducer and activator of transcription 3 (STAT3) at the protein level. \n",
    "Bisulfite sequencing PCR was applied to reveal the methylation status of the Stat3 promoter region. \n",
    "A dual-reporter assay was used to confirm the direct targeting of miR-199-3p on the Dnmt3a mRNA and an antagomir specific to miR-199-3p was injected to rescue the symptoms of AR. \n",
    "The AR model was successfully established in mouse and confirmed by both behaviour and molecular markers. \n",
    "We also found lowered expression of Dnmt3a and consecutive hypomethylation of Stat3 promoter and elevated expression of STAT3, \n",
    "which then led to overexpression of IgE and other inflammatory factors. \n",
    "MicroRNAs that worked on the Dnmt3a 3'-untranslated region were predicted and then verified by dual-reporter assay. \n",
    "Finally injection of a miR-199-3p antagomir successfully attenuated the symptoms of AR. \n",
    "We propose that the miR-199-3p signalling pathway is involved in OVA-induced AR.\"\"\"\n",
    "\n",
    "abs_3 = \"\"\"\"\"\""
   ]
  },
  {
   "cell_type": "code",
   "execution_count": 132,
   "metadata": {},
   "outputs": [
    {
     "name": "stdout",
     "output_type": "stream",
     "text": [
      "[('Recent research has pointed out the involvement of epigenetic modifications in allergic rhinitis (AR), especially DNA methylation.', {'entities': []}), ('However, the detailed mechanism has remained largely uncovered.', {'entities': []}), ('We used ovalbumin (OVA) to induce AR in mouse, and behaviour scores were used to confirm its successful establishment.', {'entities': []}), ('Histamine and other inflammatory factors were detected to further verify success of the model.', {'entities': []}), ('Real-time PCR was employed to identify the overexpression of miR-199-3p and subsequent down-regulation of DNA methyltransferase 3a (Dnmt3a).', {'entities': [(61, 71, 'miR')]}), ('Western blotting was utilized to detect Dnmt3a and signal transducer and activator of transcription 3 (STAT3) at the protein level.', {'entities': []}), ('Bisulfite sequencing PCR was applied to reveal the methylation status of the Stat3 promoter region.', {'entities': []}), ('A dual-reporter assay was used to confirm the direct targeting of miR-199-3p on the Dnmt3a mRNA and an antagomir specific to miR-199-3p was injected to rescue the symptoms of AR.', {'entities': [(66, 76, 'miR')]}), ('The AR model was successfully established in mouse and confirmed by both behaviour and molecular markers.', {'entities': []}), ('We also found lowered expression of Dnmt3a and consecutive hypomethylation of Stat3 promoter and elevated expression of STAT3,', {'entities': []}), ('which then led to overexpression of IgE and other inflammatory factors.', {'entities': []}), (\"MicroRNAs that worked on the Dnmt3a 3'-untranslated region were predicted and then verified by dual-reporter assay.\", {'entities': []}), ('Finally injection of a miR-199-3p antagomir successfully attenuated the symptoms of AR.', {'entities': [(23, 33, 'miR')]}), ('We propose that the miR-199-3p signalling pathway is involved in OVA-induced AR.', {'entities': [(20, 30, 'miR')]})]\n",
      "\n",
      "['', '', '', '', 'miR-199-3p', '', '', 'miR-199-3p', '', '', '', '', 'miR-199-3p', 'miR-199-3p']\n"
     ]
    }
   ],
   "source": [
    "print([make_training_data(i, 'miR') for i in abs_2.split(' \\n')])\n",
    "print()\n",
    "print([check_training_data(i, 'miR') for i in abs_2.split(' \\n')])"
   ]
  },
  {
   "cell_type": "code",
   "execution_count": null,
   "metadata": {},
   "outputs": [],
   "source": []
  }
 ],
 "metadata": {
  "kernelspec": {
   "display_name": "Python 3",
   "language": "python",
   "name": "python3"
  },
  "language_info": {
   "codemirror_mode": {
    "name": "ipython",
    "version": 3
   },
   "file_extension": ".py",
   "mimetype": "text/x-python",
   "name": "python",
   "nbconvert_exporter": "python",
   "pygments_lexer": "ipython3",
   "version": "3.7.4"
  }
 },
 "nbformat": 4,
 "nbformat_minor": 4
}
