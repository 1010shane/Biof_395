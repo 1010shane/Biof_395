{
 "cells": [
  {
   "cell_type": "code",
   "execution_count": 12,
   "metadata": {},
   "outputs": [],
   "source": [
    "from Bio.Entrez import efetch, read, esearch\n",
    "\n",
    "Entrez.email = 'anonymous@gmail.com'\n",
    "esearch_query = esearch(db=\"pubmed\", term=\"mir-100\", retmode=\"xml\")\n",
    "esearch_result = read(esearch_query)\n",
    "pmid_list = esearch_result['IdList']"
   ]
  },
  {
   "cell_type": "code",
   "execution_count": 13,
   "metadata": {},
   "outputs": [
    {
     "data": {
      "text/plain": [
       "['33575116', '33574876', '33550282', '33530884', '33520966', '33504224', '33465676', '33445738', '33440868', '33430889', '33415768', '33413071', '33398630', '33396535', '33385103', '33376629', '33335853', '33327422', '33311640', '33293585']"
      ]
     },
     "execution_count": 13,
     "metadata": {},
     "output_type": "execute_result"
    }
   ],
   "source": [
    "pmid_list"
   ]
  },
  {
   "cell_type": "code",
   "execution_count": 32,
   "metadata": {},
   "outputs": [],
   "source": [
    "def fetch_abstract(pmid):\n",
    "    handle = efetch(db='pubmed', id = pmid, retmode='xml')\n",
    "    article = read(handle)['PubmedArticle'][0]['MedlineCitation']['Article']\n",
    "    if 'Abstract' in article:\n",
    "            return article['Abstract']['AbstractText']"
   ]
  },
  {
   "cell_type": "code",
   "execution_count": 30,
   "metadata": {},
   "outputs": [
    {
     "name": "stdout",
     "output_type": "stream",
     "text": [
      "['To clarify crucial key micro-RNAs and mRNAs associated with hand, foot, and mouth disease (HFMD) virus infection, we conducted this bioinformatics analysis from four GEO datasets. The following datasets were used for the analysis: GSE85829, GSE94551, GSE52780, and GSE45589. Differentially expressed genes (DEGs) were acquired, and the analysis of functional and pathway enrichment and the relative regulatory network were conducted. After screening common differentially expressed miRNAs (DE-miRNAs), five key miRNAs were acquired: miR-100-3p, miR-125a-3p, miR-1273g-3p, miR-5585-3p, and miR-671-5p. There were three common enriched GO terms between miRNA-derived prediction and mRNA-derived analysis: biosynthetic process, cytosol, and nucleoplasm. There was one common KEGG pathway, i.e., cell cycle shared between miRNA-based and mRNA-based enrichment. Using TarBase V8 in DIANA tools, we acquired 1,520 potential targets (mRNA) from the five key DE-miRNAs, among which the159 DE-mRNAs also included 11 DEGs. These common DEGs showed a PPI network mainly connected by SMC1A, SMARCC1, SF3B3, LIG1, and BRMS1L. Together, changes in five key miRNAs and 11 key mRNAs may play crucial roles in HFMD progression. A combination of these roles may benefit the early diagnosis and treatment of HFMD.']\n"
     ]
    }
   ],
   "source": [
    "handle = efetch(db='pubmed', id='33574876', retmode='xml')\n",
    "#xml_data = read(handle)\n",
    "article = read(handle)['PubmedArticle'][0]['MedlineCitation']['Article']\n",
    "\n",
    "if 'Abstract' in article:\n",
    "        return article['Abstract']['AbstractText']\n",
    "#article = xml_data['MedlineCitation']['Article']\n",
    "#abstract = article['Abstract']['AbstractText'][0]"
   ]
  },
  {
   "cell_type": "code",
   "execution_count": 35,
   "metadata": {},
   "outputs": [],
   "source": [
    "test_dict = {}\n",
    "\n",
    "counter = 0\n",
    "for i in pmid_list:\n",
    "    counter += 1\n",
    "    title = 'article_' + str(counter)\n",
    "    abs = fetch_abstract(i)\n",
    "    test_dict[title] = abs\n",
    "    #print(fetch_abstract(i))"
   ]
  },
  {
   "cell_type": "code",
   "execution_count": 56,
   "metadata": {},
   "outputs": [
    {
     "data": {
      "text/plain": [
       "'Acute myocardial infarction (AMI) is one of the leading causes of morbidity and death worldwide. Studies have indicated that microRNAs in mesenchymal stem cell (MSC)-derived exosomes are crucial for treating various diseases.'"
      ]
     },
     "execution_count": 56,
     "metadata": {},
     "output_type": "execute_result"
    }
   ],
   "source": [
    "str(test_dict['article_5'][0])"
   ]
  },
  {
   "cell_type": "code",
   "execution_count": 58,
   "metadata": {},
   "outputs": [
    {
     "data": {
      "text/plain": [
       "'Human umbilical cord MSC (hucMSC)-derived exosomes (hucMSC-exo) were isolated and used to treat cardiomyocytes that underwent hypoxia/reoxygenation (H/R) injury. Bioluminescence assessment was used to study binding of miRNA to its targeting gene.'"
      ]
     },
     "execution_count": 58,
     "metadata": {},
     "output_type": "execute_result"
    }
   ],
   "source": [
    "str(test_dict['article_5'][1])"
   ]
  },
  {
   "cell_type": "markdown",
   "metadata": {},
   "source": [
    "# For abstracts split up by section, you need to parse through them. FOr those that are just one paragraph, they are good to go. "
   ]
  }
 ],
 "metadata": {
  "kernelspec": {
   "display_name": "Python 3",
   "language": "python",
   "name": "python3"
  },
  "language_info": {
   "codemirror_mode": {
    "name": "ipython",
    "version": 3
   },
   "file_extension": ".py",
   "mimetype": "text/x-python",
   "name": "python",
   "nbconvert_exporter": "python",
   "pygments_lexer": "ipython3",
   "version": "3.7.4"
  }
 },
 "nbformat": 4,
 "nbformat_minor": 4
}
